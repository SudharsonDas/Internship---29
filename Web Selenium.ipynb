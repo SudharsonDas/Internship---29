{
 "cells": [
  {
   "cell_type": "code",
   "execution_count": null,
   "id": "e64c8c33",
   "metadata": {},
   "outputs": [],
   "source": [
    "Q1: Write a python program to scrape data for “Data Analyst” Job position in “Bangalore” location. You\n",
    "have to scrape the job-title, job-location, company_name, experience_required. You have to scrape first 10\n",
    "jobs data.\n",
    "This task will be done in following steps:\n",
    "1. First get the webpage https://www.naukri.com/\n",
    "2. Enter “Data Analyst” in “Skill, Designations, Companies” field and enter “Bangalore” in “enter the\n",
    "location” field.\n",
    "3. Then click the search button.\n",
    "4. Then scrape the data for the first 10 jobs results you get.\n",
    "5. Finally create a dataframe of the scraped data.\n",
    "Note: All of the above steps have to be done in code. No step is to be done manually."
   ]
  },
  {
   "cell_type": "code",
   "execution_count": 1,
   "id": "50ef40eb",
   "metadata": {},
   "outputs": [
    {
     "name": "stdout",
     "output_type": "stream",
     "text": [
      "Requirement already satisfied: selenium in c:\\users\\admin\\anaconda3\\lib\\site-packages (4.3.0)\n",
      "Requirement already satisfied: urllib3[secure,socks]~=1.26 in c:\\users\\admin\\anaconda3\\lib\\site-packages (from selenium) (1.26.9)\n",
      "Requirement already satisfied: trio~=0.17 in c:\\users\\admin\\anaconda3\\lib\\site-packages (from selenium) (0.21.0)\n",
      "Requirement already satisfied: trio-websocket~=0.9 in c:\\users\\admin\\anaconda3\\lib\\site-packages (from selenium) (0.9.2)\n",
      "Requirement already satisfied: sortedcontainers in c:\\users\\admin\\anaconda3\\lib\\site-packages (from trio~=0.17->selenium) (2.4.0)\n",
      "Requirement already satisfied: idna in c:\\users\\admin\\anaconda3\\lib\\site-packages (from trio~=0.17->selenium) (3.3)\n",
      "Requirement already satisfied: attrs>=19.2.0 in c:\\users\\admin\\anaconda3\\lib\\site-packages (from trio~=0.17->selenium) (21.4.0)\n",
      "Requirement already satisfied: sniffio in c:\\users\\admin\\anaconda3\\lib\\site-packages (from trio~=0.17->selenium) (1.2.0)\n",
      "Requirement already satisfied: cffi>=1.14 in c:\\users\\admin\\anaconda3\\lib\\site-packages (from trio~=0.17->selenium) (1.15.1)\n",
      "Requirement already satisfied: outcome in c:\\users\\admin\\anaconda3\\lib\\site-packages (from trio~=0.17->selenium) (1.2.0)\n",
      "Requirement already satisfied: async-generator>=1.9 in c:\\users\\admin\\anaconda3\\lib\\site-packages (from trio~=0.17->selenium) (1.10)\n",
      "Requirement already satisfied: pycparser in c:\\users\\admin\\anaconda3\\lib\\site-packages (from cffi>=1.14->trio~=0.17->selenium) (2.21)\n",
      "Requirement already satisfied: wsproto>=0.14 in c:\\users\\admin\\anaconda3\\lib\\site-packages (from trio-websocket~=0.9->selenium) (1.1.0)\n",
      "Requirement already satisfied: PySocks!=1.5.7,<2.0,>=1.5.6 in c:\\users\\admin\\anaconda3\\lib\\site-packages (from urllib3[secure,socks]~=1.26->selenium) (1.7.1)\n",
      "Requirement already satisfied: certifi in c:\\users\\admin\\anaconda3\\lib\\site-packages (from urllib3[secure,socks]~=1.26->selenium) (2021.10.8)\n",
      "Requirement already satisfied: pyOpenSSL>=0.14 in c:\\users\\admin\\anaconda3\\lib\\site-packages (from urllib3[secure,socks]~=1.26->selenium) (21.0.0)\n",
      "Requirement already satisfied: cryptography>=1.3.4 in c:\\users\\admin\\anaconda3\\lib\\site-packages (from urllib3[secure,socks]~=1.26->selenium) (3.4.8)\n",
      "Requirement already satisfied: six>=1.5.2 in c:\\users\\admin\\anaconda3\\lib\\site-packages (from pyOpenSSL>=0.14->urllib3[secure,socks]~=1.26->selenium) (1.16.0)\n",
      "Requirement already satisfied: h11<1,>=0.9.0 in c:\\users\\admin\\anaconda3\\lib\\site-packages (from wsproto>=0.14->trio-websocket~=0.9->selenium) (0.13.0)\n"
     ]
    },
    {
     "name": "stderr",
     "output_type": "stream",
     "text": [
      "WARNING: Ignoring invalid distribution -ffi (c:\\users\\admin\\anaconda3\\lib\\site-packages)\n",
      "WARNING: Ignoring invalid distribution -ffi (c:\\users\\admin\\anaconda3\\lib\\site-packages)\n",
      "WARNING: Ignoring invalid distribution -ffi (c:\\users\\admin\\anaconda3\\lib\\site-packages)\n",
      "WARNING: Ignoring invalid distribution -ffi (c:\\users\\admin\\anaconda3\\lib\\site-packages)\n",
      "WARNING: Ignoring invalid distribution -ffi (c:\\users\\admin\\anaconda3\\lib\\site-packages)\n",
      "WARNING: Ignoring invalid distribution -ffi (c:\\users\\admin\\anaconda3\\lib\\site-packages)\n"
     ]
    }
   ],
   "source": [
    "!pip install selenium"
   ]
  },
  {
   "cell_type": "code",
   "execution_count": 2,
   "id": "34340cc9",
   "metadata": {},
   "outputs": [
    {
     "name": "stdout",
     "output_type": "stream",
     "text": [
      "Requirement already satisfied: requests in c:\\users\\admin\\anaconda3\\lib\\site-packages (2.27.1)\n",
      "Requirement already satisfied: urllib3<1.27,>=1.21.1 in c:\\users\\admin\\anaconda3\\lib\\site-packages (from requests) (1.26.9)\n",
      "Requirement already satisfied: certifi>=2017.4.17 in c:\\users\\admin\\anaconda3\\lib\\site-packages (from requests) (2021.10.8)\n",
      "Requirement already satisfied: idna<4,>=2.5 in c:\\users\\admin\\anaconda3\\lib\\site-packages (from requests) (3.3)\n",
      "Requirement already satisfied: charset-normalizer~=2.0.0 in c:\\users\\admin\\anaconda3\\lib\\site-packages (from requests) (2.0.4)\n"
     ]
    },
    {
     "name": "stderr",
     "output_type": "stream",
     "text": [
      "WARNING: Ignoring invalid distribution -ffi (c:\\users\\admin\\anaconda3\\lib\\site-packages)\n",
      "WARNING: Ignoring invalid distribution -ffi (c:\\users\\admin\\anaconda3\\lib\\site-packages)\n",
      "WARNING: Ignoring invalid distribution -ffi (c:\\users\\admin\\anaconda3\\lib\\site-packages)\n",
      "WARNING: Ignoring invalid distribution -ffi (c:\\users\\admin\\anaconda3\\lib\\site-packages)\n",
      "WARNING: Ignoring invalid distribution -ffi (c:\\users\\admin\\anaconda3\\lib\\site-packages)\n",
      "WARNING: Ignoring invalid distribution -ffi (c:\\users\\admin\\anaconda3\\lib\\site-packages)\n"
     ]
    },
    {
     "name": "stdout",
     "output_type": "stream",
     "text": [
      "Requirement already satisfied: beautifulsoup4 in c:\\users\\admin\\anaconda3\\lib\\site-packages (4.11.1)\n"
     ]
    },
    {
     "name": "stderr",
     "output_type": "stream",
     "text": [
      "WARNING: Ignoring invalid distribution -ffi (c:\\users\\admin\\anaconda3\\lib\\site-packages)\n",
      "WARNING: Ignoring invalid distribution -ffi (c:\\users\\admin\\anaconda3\\lib\\site-packages)\n",
      "WARNING: Ignoring invalid distribution -ffi (c:\\users\\admin\\anaconda3\\lib\\site-packages)\n",
      "WARNING: Ignoring invalid distribution -ffi (c:\\users\\admin\\anaconda3\\lib\\site-packages)\n",
      "WARNING: Ignoring invalid distribution -ffi (c:\\users\\admin\\anaconda3\\lib\\site-packages)\n",
      "WARNING: Ignoring invalid distribution -ffi (c:\\users\\admin\\anaconda3\\lib\\site-packages)\n"
     ]
    },
    {
     "name": "stdout",
     "output_type": "stream",
     "text": [
      "Requirement already satisfied: soupsieve>1.2 in c:\\users\\admin\\anaconda3\\lib\\site-packages (from beautifulsoup4) (2.3.1)\n"
     ]
    }
   ],
   "source": [
    "!pip install requests\n",
    "!pip install beautifulsoup4"
   ]
  },
  {
   "cell_type": "code",
   "execution_count": 8,
   "id": "49e1ea98",
   "metadata": {},
   "outputs": [],
   "source": [
    "import selenium\n",
    "from selenium import webdriver\n",
    "import pandas as pd\n",
    "import warnings\n",
    "warnings.filterwarnings(\"ignore\")"
   ]
  },
  {
   "cell_type": "code",
   "execution_count": 9,
   "id": "645fb20a",
   "metadata": {},
   "outputs": [],
   "source": [
    "driver = webdriver.Chrome('chromedriver.exe')"
   ]
  },
  {
   "cell_type": "code",
   "execution_count": 10,
   "id": "165938f3",
   "metadata": {},
   "outputs": [],
   "source": [
    "url = 'https://www.naukri.com/'\n",
    "driver.get(url)"
   ]
  },
  {
   "cell_type": "code",
   "execution_count": 11,
   "id": "969010b4",
   "metadata": {},
   "outputs": [
    {
     "data": {
      "text/plain": [
       "<selenium.webdriver.remote.webelement.WebElement (session=\"e0e886dda5b5fc364d1d1fe2cdde970b\", element=\"2ad1bbf2-937a-4fb2-85fd-b725b48e2713\")>"
      ]
     },
     "execution_count": 11,
     "metadata": {},
     "output_type": "execute_result"
    }
   ],
   "source": [
    "search_jobs=driver.find_element(By.CLASS_NAME,\"suggestor-input\")\n",
    "search_jobs"
   ]
  },
  {
   "cell_type": "code",
   "execution_count": 12,
   "id": "a55913ed",
   "metadata": {},
   "outputs": [],
   "source": [
    "search_jobs.send_keys(\"Data Analyst\")"
   ]
  },
  {
   "cell_type": "code",
   "execution_count": 13,
   "id": "3610664b",
   "metadata": {},
   "outputs": [
    {
     "data": {
      "text/plain": [
       "<selenium.webdriver.remote.webelement.WebElement (session=\"e0e886dda5b5fc364d1d1fe2cdde970b\", element=\"df95a23b-8d74-4768-9084-9f4d081af27c\")>"
      ]
     },
     "execution_count": 13,
     "metadata": {},
     "output_type": "execute_result"
    }
   ],
   "source": [
    "search_loc = driver.find_element(By.XPATH,\"/html/body/div[1]/div[2]/div[3]/div/div/div[5]/div/div/div/input\")\n",
    "search_loc"
   ]
  },
  {
   "cell_type": "code",
   "execution_count": 14,
   "id": "c1cbb902",
   "metadata": {},
   "outputs": [],
   "source": [
    "search_loc.send_keys(\"Bangalore\")"
   ]
  },
  {
   "cell_type": "code",
   "execution_count": 15,
   "id": "a4beb929",
   "metadata": {},
   "outputs": [
    {
     "data": {
      "text/plain": [
       "<selenium.webdriver.remote.webelement.WebElement (session=\"e0e886dda5b5fc364d1d1fe2cdde970b\", element=\"8b0b637a-c959-4752-a851-186a8941e9ef\")>"
      ]
     },
     "execution_count": 15,
     "metadata": {},
     "output_type": "execute_result"
    }
   ],
   "source": [
    "search_between = driver.find_element(By.XPATH,\"/html/body/div[1]/div[2]/div[3]/div/div/div[6]\")\n",
    "search_between"
   ]
  },
  {
   "cell_type": "code",
   "execution_count": 16,
   "id": "ae7899b5",
   "metadata": {},
   "outputs": [],
   "source": [
    "search_between.click()"
   ]
  },
  {
   "cell_type": "code",
   "execution_count": 21,
   "id": "2341142a",
   "metadata": {},
   "outputs": [
    {
     "data": {
      "text/plain": [
       "20"
      ]
     },
     "execution_count": 21,
     "metadata": {},
     "output_type": "execute_result"
    }
   ],
   "source": [
    "title_tags = driver.find_elements(By.XPATH,'//a[@class=\"title fw500 ellipsis\"]')\n",
    "len(title_tags)"
   ]
  },
  {
   "cell_type": "code",
   "execution_count": 24,
   "id": "832040d1",
   "metadata": {},
   "outputs": [
    {
     "data": {
      "text/plain": [
       "['Data Analyst I',\n",
       " 'Data Science / Data Engineer / Business Analyst / Full Stack Developer',\n",
       " 'Sr.Business Data Analyst',\n",
       " 'Sr Data Analyst',\n",
       " 'Data Analyst / Business analyst - US MNC (analytics)',\n",
       " 'Junior Data Analyst',\n",
       " 'Senior Data Analysis Analyst',\n",
       " 'Data Analyst',\n",
       " 'Data Analyst',\n",
       " 'Senior Data Analyst']"
      ]
     },
     "execution_count": 24,
     "metadata": {},
     "output_type": "execute_result"
    }
   ],
   "source": [
    "job_titles = []\n",
    "\n",
    "for i in title_tags:\n",
    "    job_titles.append(i.text)\n",
    "    \n",
    "job_titles[:10]"
   ]
  },
  {
   "cell_type": "code",
   "execution_count": 25,
   "id": "76b5ff99",
   "metadata": {},
   "outputs": [
    {
     "data": {
      "text/plain": [
       "20"
      ]
     },
     "execution_count": 25,
     "metadata": {},
     "output_type": "execute_result"
    }
   ],
   "source": [
    "company_name = driver.find_elements(By.XPATH,'//a[@class=\"subTitle ellipsis fleft\"]')\n",
    "len(company_name)"
   ]
  },
  {
   "cell_type": "code",
   "execution_count": 26,
   "id": "a21595eb",
   "metadata": {},
   "outputs": [
    {
     "data": {
      "text/plain": [
       "['Cerner',\n",
       " 'NETWORTH DATA PRODUCTS PRIVATE LIMITED',\n",
       " 'Collabera',\n",
       " 'Thomson Reuters',\n",
       " 'Aspyra HR Services',\n",
       " 'ICF Next',\n",
       " 'Capco',\n",
       " 'Everest Fleet Pvt. Ltd.',\n",
       " 'Thomson Reuters',\n",
       " 'Hudsons bay Company (HBC)']"
      ]
     },
     "execution_count": 26,
     "metadata": {},
     "output_type": "execute_result"
    }
   ],
   "source": [
    "company_title = []\n",
    "\n",
    "for i in company_name:\n",
    "    company_title.append(i.text)\n",
    "    \n",
    "company_title[:10]"
   ]
  },
  {
   "cell_type": "code",
   "execution_count": 36,
   "id": "0204f1ba",
   "metadata": {},
   "outputs": [
    {
     "data": {
      "text/plain": [
       "20"
      ]
     },
     "execution_count": 36,
     "metadata": {},
     "output_type": "execute_result"
    }
   ],
   "source": [
    "experience = driver.find_elements(By.XPATH,'//li[@class=\"fleft grey-text br2 placeHolderLi experience\"]')\n",
    "len(experience)"
   ]
  },
  {
   "cell_type": "code",
   "execution_count": 37,
   "id": "56a38876",
   "metadata": {},
   "outputs": [
    {
     "data": {
      "text/plain": [
       "['5-10 Yrs',\n",
       " '0-3 Yrs',\n",
       " '6-11 Yrs',\n",
       " '5-8 Yrs',\n",
       " '2-7 Yrs',\n",
       " '1-6 Yrs',\n",
       " '7-12 Yrs',\n",
       " '3-8 Yrs',\n",
       " '2-3 Yrs',\n",
       " '3-4 Yrs']"
      ]
     },
     "execution_count": 37,
     "metadata": {},
     "output_type": "execute_result"
    }
   ],
   "source": [
    "expected_years = []\n",
    "\n",
    "for i in experience:\n",
    "    expected_years.append(i.text)\n",
    "    \n",
    "expected_years[:10]"
   ]
  },
  {
   "cell_type": "code",
   "execution_count": 32,
   "id": "3011230a",
   "metadata": {},
   "outputs": [
    {
     "data": {
      "text/plain": [
       "20"
      ]
     },
     "execution_count": 32,
     "metadata": {},
     "output_type": "execute_result"
    }
   ],
   "source": [
    "job_des = driver.find_elements(By.XPATH,'//div[@class=\"job-description fs12 grey-text\"]')\n",
    "len(job_des)"
   ]
  },
  {
   "cell_type": "code",
   "execution_count": 33,
   "id": "80fea1ba",
   "metadata": {},
   "outputs": [
    {
     "data": {
      "text/plain": [
       "['Bachelors degree in Actuarial Science, Analytics, Economics, Information Systems, Manag...',\n",
       " 'Bachelors degree or equivalent self education in a Quantitative or Technical field (Sta...',\n",
       " 'Roles and Responsibilities Desired Candidate Profile Perks and Benefits',\n",
       " 'Bachelor s degree or equivalent required, Computer Science or related technical degree ...',\n",
       " 'Salary- 10 to 25 LPAExp- 2 to 7 yearsLocation- Gurgaon & BangaloreNotice: Immediate to ...',\n",
       " 'Experience with data linking / advanced data management, combining data from different ...',\n",
       " 'About UsJoining Capco means joining an organisation that is committed to an inclusive w...',\n",
       " 'Presenting various analysis and reports to the management as and when requiredPerson sh...',\n",
       " 'Bachelor s degree or equivalent required, Computer Science or related technical degree ...',\n",
       " 'Bachelors degree in business, accounting, finance, economics, mathematics, or equivalen...']"
      ]
     },
     "execution_count": 33,
     "metadata": {},
     "output_type": "execute_result"
    }
   ],
   "source": [
    "job_description = []\n",
    "\n",
    "for i in job_des:\n",
    "    job_description.append(i.text)\n",
    "    \n",
    "job_description[:10]"
   ]
  },
  {
   "cell_type": "code",
   "execution_count": 40,
   "id": "d0d0cb76",
   "metadata": {},
   "outputs": [
    {
     "data": {
      "text/html": [
       "<div>\n",
       "<style scoped>\n",
       "    .dataframe tbody tr th:only-of-type {\n",
       "        vertical-align: middle;\n",
       "    }\n",
       "\n",
       "    .dataframe tbody tr th {\n",
       "        vertical-align: top;\n",
       "    }\n",
       "\n",
       "    .dataframe thead th {\n",
       "        text-align: right;\n",
       "    }\n",
       "</style>\n",
       "<table border=\"1\" class=\"dataframe\">\n",
       "  <thead>\n",
       "    <tr style=\"text-align: right;\">\n",
       "      <th></th>\n",
       "      <th>Job Title</th>\n",
       "      <th>Company Name</th>\n",
       "      <th>No.of Years</th>\n",
       "      <th>Description</th>\n",
       "    </tr>\n",
       "  </thead>\n",
       "  <tbody>\n",
       "    <tr>\n",
       "      <th>0</th>\n",
       "      <td>Data Analyst I</td>\n",
       "      <td>Cerner</td>\n",
       "      <td>5-10 Yrs</td>\n",
       "      <td>Bachelors degree in Actuarial Science, Analyti...</td>\n",
       "    </tr>\n",
       "    <tr>\n",
       "      <th>1</th>\n",
       "      <td>Data Science / Data Engineer / Business Analys...</td>\n",
       "      <td>NETWORTH DATA PRODUCTS PRIVATE LIMITED</td>\n",
       "      <td>0-3 Yrs</td>\n",
       "      <td>Bachelors degree or equivalent self education ...</td>\n",
       "    </tr>\n",
       "    <tr>\n",
       "      <th>2</th>\n",
       "      <td>Sr.Business Data Analyst</td>\n",
       "      <td>Collabera</td>\n",
       "      <td>6-11 Yrs</td>\n",
       "      <td>Roles and Responsibilities Desired Candidate P...</td>\n",
       "    </tr>\n",
       "    <tr>\n",
       "      <th>3</th>\n",
       "      <td>Sr Data Analyst</td>\n",
       "      <td>Thomson Reuters</td>\n",
       "      <td>5-8 Yrs</td>\n",
       "      <td>Bachelor s degree or equivalent required, Comp...</td>\n",
       "    </tr>\n",
       "    <tr>\n",
       "      <th>4</th>\n",
       "      <td>Data Analyst / Business analyst - US MNC (anal...</td>\n",
       "      <td>Aspyra HR Services</td>\n",
       "      <td>2-7 Yrs</td>\n",
       "      <td>Salary- 10 to 25 LPAExp- 2 to 7 yearsLocation-...</td>\n",
       "    </tr>\n",
       "    <tr>\n",
       "      <th>5</th>\n",
       "      <td>Junior Data Analyst</td>\n",
       "      <td>ICF Next</td>\n",
       "      <td>1-6 Yrs</td>\n",
       "      <td>Experience with data linking / advanced data m...</td>\n",
       "    </tr>\n",
       "    <tr>\n",
       "      <th>6</th>\n",
       "      <td>Senior Data Analysis Analyst</td>\n",
       "      <td>Capco</td>\n",
       "      <td>7-12 Yrs</td>\n",
       "      <td>About UsJoining Capco means joining an organis...</td>\n",
       "    </tr>\n",
       "    <tr>\n",
       "      <th>7</th>\n",
       "      <td>Data Analyst</td>\n",
       "      <td>Everest Fleet Pvt. Ltd.</td>\n",
       "      <td>3-8 Yrs</td>\n",
       "      <td>Presenting various analysis and reports to the...</td>\n",
       "    </tr>\n",
       "    <tr>\n",
       "      <th>8</th>\n",
       "      <td>Data Analyst</td>\n",
       "      <td>Thomson Reuters</td>\n",
       "      <td>2-3 Yrs</td>\n",
       "      <td>Bachelor s degree or equivalent required, Comp...</td>\n",
       "    </tr>\n",
       "    <tr>\n",
       "      <th>9</th>\n",
       "      <td>Senior Data Analyst</td>\n",
       "      <td>Hudsons bay Company (HBC)</td>\n",
       "      <td>3-4 Yrs</td>\n",
       "      <td>Bachelors degree in business, accounting, fina...</td>\n",
       "    </tr>\n",
       "    <tr>\n",
       "      <th>10</th>\n",
       "      <td>Senior Data Analyst</td>\n",
       "      <td>KrazyBee</td>\n",
       "      <td>3-6 Yrs</td>\n",
       "      <td>Experience in data analysis and modeling Prefe...</td>\n",
       "    </tr>\n",
       "    <tr>\n",
       "      <th>11</th>\n",
       "      <td>Master Data Management Business Analyst</td>\n",
       "      <td>Accenture</td>\n",
       "      <td>6-8 Yrs</td>\n",
       "      <td>Work Experience :6-8 years</td>\n",
       "    </tr>\n",
       "    <tr>\n",
       "      <th>12</th>\n",
       "      <td>Data Analyst - IIM/ISB/MDI/FMS/SP Jain</td>\n",
       "      <td>K12 Techno Services Pvt Ltd</td>\n",
       "      <td>4-9 Yrs</td>\n",
       "      <td>Masters degree from Tier 1 MBA College Demonst...</td>\n",
       "    </tr>\n",
       "    <tr>\n",
       "      <th>13</th>\n",
       "      <td>Business Analyst/Data Analyst</td>\n",
       "      <td>Telamon HR Solutions</td>\n",
       "      <td>3-5 Yrs</td>\n",
       "      <td>Strong communication and presentation skills s...</td>\n",
       "    </tr>\n",
       "    <tr>\n",
       "      <th>14</th>\n",
       "      <td>Hiring For Data Analyst</td>\n",
       "      <td>Flipkart</td>\n",
       "      <td>2-5 Yrs</td>\n",
       "      <td>A bachelors degree in an analytical or busines...</td>\n",
       "    </tr>\n",
       "    <tr>\n",
       "      <th>15</th>\n",
       "      <td>Data Analyst</td>\n",
       "      <td>Wipro</td>\n",
       "      <td>4-9 Yrs</td>\n",
       "      <td>Job Type : Permanent(Full Time) 4 - 10 years o...</td>\n",
       "    </tr>\n",
       "    <tr>\n",
       "      <th>16</th>\n",
       "      <td>Associate Data Analyst</td>\n",
       "      <td>Optum</td>\n",
       "      <td>2-7 Yrs</td>\n",
       "      <td>B Tech / BE or MCA with excellent communicatio...</td>\n",
       "    </tr>\n",
       "    <tr>\n",
       "      <th>17</th>\n",
       "      <td>Associate Data Analyst</td>\n",
       "      <td>Optum</td>\n",
       "      <td>1-4 Yrs</td>\n",
       "      <td>Experience designing, developing and implement...</td>\n",
       "    </tr>\n",
       "    <tr>\n",
       "      <th>18</th>\n",
       "      <td>Senior Data Analyst II</td>\n",
       "      <td>Flipkart</td>\n",
       "      <td>3-6 Yrs</td>\n",
       "      <td>About the role: You work closely with differen...</td>\n",
       "    </tr>\n",
       "    <tr>\n",
       "      <th>19</th>\n",
       "      <td>Financial Data Analyst</td>\n",
       "      <td>Nuance India</td>\n",
       "      <td>3-8 Yrs</td>\n",
       "      <td>Education: Bachelor s degree or equivalent exp...</td>\n",
       "    </tr>\n",
       "  </tbody>\n",
       "</table>\n",
       "</div>"
      ],
      "text/plain": [
       "                                            Job Title  \\\n",
       "0                                      Data Analyst I   \n",
       "1   Data Science / Data Engineer / Business Analys...   \n",
       "2                            Sr.Business Data Analyst   \n",
       "3                                     Sr Data Analyst   \n",
       "4   Data Analyst / Business analyst - US MNC (anal...   \n",
       "5                                 Junior Data Analyst   \n",
       "6                        Senior Data Analysis Analyst   \n",
       "7                                        Data Analyst   \n",
       "8                                        Data Analyst   \n",
       "9                                 Senior Data Analyst   \n",
       "10                                Senior Data Analyst   \n",
       "11            Master Data Management Business Analyst   \n",
       "12             Data Analyst - IIM/ISB/MDI/FMS/SP Jain   \n",
       "13                      Business Analyst/Data Analyst   \n",
       "14                            Hiring For Data Analyst   \n",
       "15                                       Data Analyst   \n",
       "16                             Associate Data Analyst   \n",
       "17                             Associate Data Analyst   \n",
       "18                             Senior Data Analyst II   \n",
       "19                             Financial Data Analyst   \n",
       "\n",
       "                              Company Name No.of Years  \\\n",
       "0                                   Cerner    5-10 Yrs   \n",
       "1   NETWORTH DATA PRODUCTS PRIVATE LIMITED     0-3 Yrs   \n",
       "2                                Collabera    6-11 Yrs   \n",
       "3                          Thomson Reuters     5-8 Yrs   \n",
       "4                       Aspyra HR Services     2-7 Yrs   \n",
       "5                                 ICF Next     1-6 Yrs   \n",
       "6                                    Capco    7-12 Yrs   \n",
       "7                  Everest Fleet Pvt. Ltd.     3-8 Yrs   \n",
       "8                          Thomson Reuters     2-3 Yrs   \n",
       "9                Hudsons bay Company (HBC)     3-4 Yrs   \n",
       "10                                KrazyBee     3-6 Yrs   \n",
       "11                               Accenture     6-8 Yrs   \n",
       "12             K12 Techno Services Pvt Ltd     4-9 Yrs   \n",
       "13                    Telamon HR Solutions     3-5 Yrs   \n",
       "14                                Flipkart     2-5 Yrs   \n",
       "15                                   Wipro     4-9 Yrs   \n",
       "16                                   Optum     2-7 Yrs   \n",
       "17                                   Optum     1-4 Yrs   \n",
       "18                                Flipkart     3-6 Yrs   \n",
       "19                            Nuance India     3-8 Yrs   \n",
       "\n",
       "                                          Description  \n",
       "0   Bachelors degree in Actuarial Science, Analyti...  \n",
       "1   Bachelors degree or equivalent self education ...  \n",
       "2   Roles and Responsibilities Desired Candidate P...  \n",
       "3   Bachelor s degree or equivalent required, Comp...  \n",
       "4   Salary- 10 to 25 LPAExp- 2 to 7 yearsLocation-...  \n",
       "5   Experience with data linking / advanced data m...  \n",
       "6   About UsJoining Capco means joining an organis...  \n",
       "7   Presenting various analysis and reports to the...  \n",
       "8   Bachelor s degree or equivalent required, Comp...  \n",
       "9   Bachelors degree in business, accounting, fina...  \n",
       "10  Experience in data analysis and modeling Prefe...  \n",
       "11                         Work Experience :6-8 years  \n",
       "12  Masters degree from Tier 1 MBA College Demonst...  \n",
       "13  Strong communication and presentation skills s...  \n",
       "14  A bachelors degree in an analytical or busines...  \n",
       "15  Job Type : Permanent(Full Time) 4 - 10 years o...  \n",
       "16  B Tech / BE or MCA with excellent communicatio...  \n",
       "17  Experience designing, developing and implement...  \n",
       "18  About the role: You work closely with differen...  \n",
       "19  Education: Bachelor s degree or equivalent exp...  "
      ]
     },
     "execution_count": 40,
     "metadata": {},
     "output_type": "execute_result"
    }
   ],
   "source": [
    "df = pd.DataFrame({'Job Title': job_titles,'Company Name':company_title,'No.of Years':expected_years,'Description':job_description})\n",
    "df"
   ]
  },
  {
   "cell_type": "code",
   "execution_count": null,
   "id": "c9148f61",
   "metadata": {},
   "outputs": [],
   "source": []
  },
  {
   "cell_type": "code",
   "execution_count": null,
   "id": "791fcceb",
   "metadata": {},
   "outputs": [],
   "source": [
    "# Q2: Write a python program to scrape data for “Data Scientist” Job position in “Bangalore” location. You\n",
    "have to scrape the job-title, job-location, company_name. You have to scrape first 10 jobs data.\n",
    "This task will be done in following steps:\n",
    "1. First get the webpage https://www.naukri.com/\n",
    "2. Enter “Data Scientist” in “Skill, Designations, Companies” field and enter “Bangalore” in “enter the\n",
    "location” field.\n",
    "3. Then click the search button.\n",
    "4. Then scrape the data for the first 10 jobs results you get.\n",
    "5. Finally create a dataframe of the scraped data.\n",
    "Note: All of the above steps have to be done in code. No step is to be done manually."
   ]
  },
  {
   "cell_type": "code",
   "execution_count": null,
   "id": "af100a12",
   "metadata": {},
   "outputs": [],
   "source": [
    "import selenium\n",
    "from selenium import webdriver\n",
    "import pandas as pd\n",
    "import warnings\n",
    "warnings.filterwarnings(\"ignore\")"
   ]
  },
  {
   "cell_type": "code",
   "execution_count": 49,
   "id": "1c70ee39",
   "metadata": {},
   "outputs": [],
   "source": [
    "driver = webdriver.Chrome('chromedriver.exe')"
   ]
  },
  {
   "cell_type": "code",
   "execution_count": 50,
   "id": "49d572f9",
   "metadata": {},
   "outputs": [],
   "source": [
    "url = 'https://www.naukri.com/'\n",
    "driver.get(url)"
   ]
  },
  {
   "cell_type": "code",
   "execution_count": 51,
   "id": "9a103dbe",
   "metadata": {},
   "outputs": [
    {
     "data": {
      "text/plain": [
       "<selenium.webdriver.remote.webelement.WebElement (session=\"977abb7b61f50123ceffe82b97a480c9\", element=\"987ea2c9-b760-481d-8d44-d176f74ca1ad\")>"
      ]
     },
     "execution_count": 51,
     "metadata": {},
     "output_type": "execute_result"
    }
   ],
   "source": [
    "search_jobs=driver.find_element(By.CLASS_NAME,\"suggestor-input\")\n",
    "search_jobs"
   ]
  },
  {
   "cell_type": "code",
   "execution_count": 52,
   "id": "57444d17",
   "metadata": {},
   "outputs": [],
   "source": [
    "search_jobs.send_keys(\"Data Scientist\")"
   ]
  },
  {
   "cell_type": "code",
   "execution_count": 53,
   "id": "b3716267",
   "metadata": {},
   "outputs": [
    {
     "data": {
      "text/plain": [
       "<selenium.webdriver.remote.webelement.WebElement (session=\"977abb7b61f50123ceffe82b97a480c9\", element=\"63ed4217-1ad4-4b38-a19a-87035f87ef05\")>"
      ]
     },
     "execution_count": 53,
     "metadata": {},
     "output_type": "execute_result"
    }
   ],
   "source": [
    "search_loc = driver.find_element(By.XPATH,\"/html/body/div[1]/div[2]/div[3]/div/div/div[5]/div/div/div/input\")\n",
    "search_loc"
   ]
  },
  {
   "cell_type": "code",
   "execution_count": 54,
   "id": "9690b86f",
   "metadata": {},
   "outputs": [],
   "source": [
    "search_loc.send_keys(\"Bangalore\")"
   ]
  },
  {
   "cell_type": "code",
   "execution_count": 56,
   "id": "85b87e9f",
   "metadata": {},
   "outputs": [
    {
     "data": {
      "text/plain": [
       "<selenium.webdriver.remote.webelement.WebElement (session=\"977abb7b61f50123ceffe82b97a480c9\", element=\"6ede9c10-e00f-4758-8898-ffd96c826307\")>"
      ]
     },
     "execution_count": 56,
     "metadata": {},
     "output_type": "execute_result"
    }
   ],
   "source": [
    "search_between = driver.find_element(By.XPATH,\"/html/body/div[1]/div[2]/div[3]/div/div/div[6]\")\n",
    "search_between"
   ]
  },
  {
   "cell_type": "code",
   "execution_count": 57,
   "id": "c6934329",
   "metadata": {},
   "outputs": [],
   "source": [
    "search_between.click()"
   ]
  },
  {
   "cell_type": "code",
   "execution_count": 58,
   "id": "52d22677",
   "metadata": {},
   "outputs": [
    {
     "data": {
      "text/plain": [
       "20"
      ]
     },
     "execution_count": 58,
     "metadata": {},
     "output_type": "execute_result"
    }
   ],
   "source": [
    "title_tags = driver.find_elements(By.XPATH,'//a[@class=\"title fw500 ellipsis\"]')\n",
    "len(title_tags)"
   ]
  },
  {
   "cell_type": "code",
   "execution_count": 59,
   "id": "df152e56",
   "metadata": {},
   "outputs": [
    {
     "data": {
      "text/plain": [
       "['Urgent Job Opening For AI Practitioner - Data Science at Wipro Holmes',\n",
       " 'Hiring For Senior Data Scientist',\n",
       " 'Senior Data Scientist',\n",
       " 'Dataiku Consultant',\n",
       " 'Research and Development -AI/ML -(PhD )',\n",
       " 'Opportunity For Data Scientist - Female Candidates ONLY',\n",
       " 'Senior Data Science Engineer',\n",
       " 'Data Science - Engineering Manager',\n",
       " 'Data Scientist',\n",
       " 'Data & Analytics Tech - Informatica Cloud- Senior Associate']"
      ]
     },
     "execution_count": 59,
     "metadata": {},
     "output_type": "execute_result"
    }
   ],
   "source": [
    "job_titles = []\n",
    "\n",
    "for i in title_tags:\n",
    "    job_titles.append(i.text)\n",
    "    \n",
    "job_titles[:10]"
   ]
  },
  {
   "cell_type": "code",
   "execution_count": 60,
   "id": "02d662df",
   "metadata": {},
   "outputs": [
    {
     "data": {
      "text/plain": [
       "20"
      ]
     },
     "execution_count": 60,
     "metadata": {},
     "output_type": "execute_result"
    }
   ],
   "source": [
    "company_name = driver.find_elements(By.XPATH,'//a[@class=\"subTitle ellipsis fleft\"]')\n",
    "len(company_name)"
   ]
  },
  {
   "cell_type": "code",
   "execution_count": 61,
   "id": "fa294628",
   "metadata": {},
   "outputs": [
    {
     "data": {
      "text/plain": [
       "['Wipro',\n",
       " 'TATA CONSULTANCY SERVICES (TCS)',\n",
       " 'Spiceworks',\n",
       " 'Wipro',\n",
       " 'EXL',\n",
       " 'PayU',\n",
       " 'Fractal Analytics',\n",
       " 'Paytm',\n",
       " 'Applied Materials',\n",
       " 'PwC']"
      ]
     },
     "execution_count": 61,
     "metadata": {},
     "output_type": "execute_result"
    }
   ],
   "source": [
    "company_title = []\n",
    "\n",
    "for i in company_name:\n",
    "    company_title.append(i.text)\n",
    "    \n",
    "company_title[:10]"
   ]
  },
  {
   "cell_type": "code",
   "execution_count": 62,
   "id": "aef77f79",
   "metadata": {},
   "outputs": [
    {
     "data": {
      "text/plain": [
       "20"
      ]
     },
     "execution_count": 62,
     "metadata": {},
     "output_type": "execute_result"
    }
   ],
   "source": [
    "experience = driver.find_elements(By.XPATH,'//li[@class=\"fleft grey-text br2 placeHolderLi experience\"]')\n",
    "len(experience)"
   ]
  },
  {
   "cell_type": "code",
   "execution_count": 63,
   "id": "85c98d05",
   "metadata": {},
   "outputs": [
    {
     "data": {
      "text/plain": [
       "['11-21 Yrs',\n",
       " '8-13 Yrs',\n",
       " '5-7 Yrs',\n",
       " '10-16 Yrs',\n",
       " '4-8 Yrs',\n",
       " '1-3 Yrs',\n",
       " '5-9 Yrs',\n",
       " '9-13 Yrs',\n",
       " '4-7 Yrs',\n",
       " '6-10 Yrs']"
      ]
     },
     "execution_count": 63,
     "metadata": {},
     "output_type": "execute_result"
    }
   ],
   "source": [
    "expected_years = []\n",
    "\n",
    "for i in experience:\n",
    "    expected_years.append(i.text)\n",
    "    \n",
    "expected_years[:10]"
   ]
  },
  {
   "cell_type": "code",
   "execution_count": 64,
   "id": "f399f0e1",
   "metadata": {},
   "outputs": [
    {
     "data": {
      "text/plain": [
       "20"
      ]
     },
     "execution_count": 64,
     "metadata": {},
     "output_type": "execute_result"
    }
   ],
   "source": [
    "job_des = driver.find_elements(By.XPATH,'//div[@class=\"job-description fs12 grey-text\"]')\n",
    "len(job_des)"
   ]
  },
  {
   "cell_type": "code",
   "execution_count": 65,
   "id": "0d8aff26",
   "metadata": {},
   "outputs": [
    {
     "data": {
      "text/plain": [
       "['Qualification: Any Degree (Full time) Experience with one or more general purpose progr...',\n",
       " 'Ready to work in Flexible shift hours3 Co-ordinate with technical team for Production r...',\n",
       " 'Who You Are: We are looking to hire a Senior Data Scientist (India) to help support our...',\n",
       " 'Strong knowledge / hands-on experience of various databases (RDBMS / Postgres/NoSQL / C...',\n",
       " 'Experience (including graduate school) on training machine learning models, applying an...',\n",
       " 'Proficiency in some of the following statistical techniques: Logistic Regression, CART ...',\n",
       " 'Experience of working on end-to-end data science pipeline: problem scoping, data gather...',\n",
       " 'Preferred Qualification : Bachelors / Masters Degree in Computer Science or equivalent ...',\n",
       " 'Good knowledge in statistics and math in deep understanding on ML algorithms and their ...',\n",
       " 'Good to have experience / exposure in Aurora, S3, Snowflake DB, RedShiftShould have exp...']"
      ]
     },
     "execution_count": 65,
     "metadata": {},
     "output_type": "execute_result"
    }
   ],
   "source": [
    "job_description = []\n",
    "\n",
    "for i in job_des:\n",
    "    job_description.append(i.text)\n",
    "    \n",
    "job_description[:10]"
   ]
  },
  {
   "cell_type": "code",
   "execution_count": 66,
   "id": "878e0587",
   "metadata": {},
   "outputs": [
    {
     "data": {
      "text/html": [
       "<div>\n",
       "<style scoped>\n",
       "    .dataframe tbody tr th:only-of-type {\n",
       "        vertical-align: middle;\n",
       "    }\n",
       "\n",
       "    .dataframe tbody tr th {\n",
       "        vertical-align: top;\n",
       "    }\n",
       "\n",
       "    .dataframe thead th {\n",
       "        text-align: right;\n",
       "    }\n",
       "</style>\n",
       "<table border=\"1\" class=\"dataframe\">\n",
       "  <thead>\n",
       "    <tr style=\"text-align: right;\">\n",
       "      <th></th>\n",
       "      <th>Job Title</th>\n",
       "      <th>Company Name</th>\n",
       "      <th>No.of Years</th>\n",
       "      <th>Description</th>\n",
       "    </tr>\n",
       "  </thead>\n",
       "  <tbody>\n",
       "    <tr>\n",
       "      <th>0</th>\n",
       "      <td>Urgent Job Opening For AI Practitioner - Data ...</td>\n",
       "      <td>Wipro</td>\n",
       "      <td>11-21 Yrs</td>\n",
       "      <td>Qualification: Any Degree (Full time) Experien...</td>\n",
       "    </tr>\n",
       "    <tr>\n",
       "      <th>1</th>\n",
       "      <td>Hiring For Senior Data Scientist</td>\n",
       "      <td>TATA CONSULTANCY SERVICES (TCS)</td>\n",
       "      <td>8-13 Yrs</td>\n",
       "      <td>Ready to work in Flexible shift hours3 Co-ordi...</td>\n",
       "    </tr>\n",
       "    <tr>\n",
       "      <th>2</th>\n",
       "      <td>Senior Data Scientist</td>\n",
       "      <td>Spiceworks</td>\n",
       "      <td>5-7 Yrs</td>\n",
       "      <td>Who You Are: We are looking to hire a Senior D...</td>\n",
       "    </tr>\n",
       "    <tr>\n",
       "      <th>3</th>\n",
       "      <td>Dataiku Consultant</td>\n",
       "      <td>Wipro</td>\n",
       "      <td>10-16 Yrs</td>\n",
       "      <td>Strong knowledge / hands-on experience of vari...</td>\n",
       "    </tr>\n",
       "    <tr>\n",
       "      <th>4</th>\n",
       "      <td>Research and Development -AI/ML -(PhD )</td>\n",
       "      <td>EXL</td>\n",
       "      <td>4-8 Yrs</td>\n",
       "      <td>Experience (including graduate school) on trai...</td>\n",
       "    </tr>\n",
       "    <tr>\n",
       "      <th>5</th>\n",
       "      <td>Opportunity For Data Scientist - Female Candid...</td>\n",
       "      <td>PayU</td>\n",
       "      <td>1-3 Yrs</td>\n",
       "      <td>Proficiency in some of the following statistic...</td>\n",
       "    </tr>\n",
       "    <tr>\n",
       "      <th>6</th>\n",
       "      <td>Senior Data Science Engineer</td>\n",
       "      <td>Fractal Analytics</td>\n",
       "      <td>5-9 Yrs</td>\n",
       "      <td>Experience of working on end-to-end data scien...</td>\n",
       "    </tr>\n",
       "    <tr>\n",
       "      <th>7</th>\n",
       "      <td>Data Science - Engineering Manager</td>\n",
       "      <td>Paytm</td>\n",
       "      <td>9-13 Yrs</td>\n",
       "      <td>Preferred Qualification : Bachelors / Masters ...</td>\n",
       "    </tr>\n",
       "    <tr>\n",
       "      <th>8</th>\n",
       "      <td>Data Scientist</td>\n",
       "      <td>Applied Materials</td>\n",
       "      <td>4-7 Yrs</td>\n",
       "      <td>Good knowledge in statistics and math in deep ...</td>\n",
       "    </tr>\n",
       "    <tr>\n",
       "      <th>9</th>\n",
       "      <td>Data &amp; Analytics Tech - Informatica Cloud- Sen...</td>\n",
       "      <td>PwC</td>\n",
       "      <td>6-10 Yrs</td>\n",
       "      <td>Good to have experience / exposure in Aurora, ...</td>\n",
       "    </tr>\n",
       "    <tr>\n",
       "      <th>10</th>\n",
       "      <td>Data Scientist: Advanced Analytics</td>\n",
       "      <td>IBM</td>\n",
       "      <td>2-7 Yrs</td>\n",
       "      <td>Required Technical and Professional ExpertiseP...</td>\n",
       "    </tr>\n",
       "    <tr>\n",
       "      <th>11</th>\n",
       "      <td>Research Scientist</td>\n",
       "      <td>IBM</td>\n",
       "      <td>3-7 Yrs</td>\n",
       "      <td>Required Technical and Professional Expertise ...</td>\n",
       "    </tr>\n",
       "    <tr>\n",
       "      <th>12</th>\n",
       "      <td>Principal - Data Scientist</td>\n",
       "      <td>Schneider Electric</td>\n",
       "      <td>7-10 Yrs</td>\n",
       "      <td>Responsibilities : Partners with lines of busi...</td>\n",
       "    </tr>\n",
       "    <tr>\n",
       "      <th>13</th>\n",
       "      <td>Data Scientist- Assistant Manager/Manager</td>\n",
       "      <td>Genpact</td>\n",
       "      <td>4-8 Yrs</td>\n",
       "      <td>Post-graduate degree (Masters) in Computer sci...</td>\n",
       "    </tr>\n",
       "    <tr>\n",
       "      <th>14</th>\n",
       "      <td>EY GBS - Assistant Director - Data Science (10...</td>\n",
       "      <td>EYGBS</td>\n",
       "      <td>10-17 Yrs</td>\n",
       "      <td>Position Details: Job Title : Assistant Direct...</td>\n",
       "    </tr>\n",
       "    <tr>\n",
       "      <th>15</th>\n",
       "      <td>Data Scientist</td>\n",
       "      <td>IBM</td>\n",
       "      <td>5-10 Yrs</td>\n",
       "      <td>As a Data Scientist at IBM, you will help tran...</td>\n",
       "    </tr>\n",
       "    <tr>\n",
       "      <th>16</th>\n",
       "      <td>Data Scientist, Personalization</td>\n",
       "      <td>Walmart</td>\n",
       "      <td>3-6 Yrs</td>\n",
       "      <td>PhD with &gt; 2 years of experience or 4-year bac...</td>\n",
       "    </tr>\n",
       "    <tr>\n",
       "      <th>17</th>\n",
       "      <td>AWS Sagemaker</td>\n",
       "      <td>Wipro</td>\n",
       "      <td>7-12 Yrs</td>\n",
       "      <td>Proven experience using AWS Sagemaker leveragi...</td>\n",
       "    </tr>\n",
       "    <tr>\n",
       "      <th>18</th>\n",
       "      <td>Data Scientist</td>\n",
       "      <td>Wipro</td>\n",
       "      <td>9-14 Yrs</td>\n",
       "      <td>Roles and Responsibilities Primary responsibil...</td>\n",
       "    </tr>\n",
       "    <tr>\n",
       "      <th>19</th>\n",
       "      <td>Data Scientist: Artificial Intelligence</td>\n",
       "      <td>IBM</td>\n",
       "      <td>3-7 Yrs</td>\n",
       "      <td>Well versed in Waston AssitanceRequired Techni...</td>\n",
       "    </tr>\n",
       "  </tbody>\n",
       "</table>\n",
       "</div>"
      ],
      "text/plain": [
       "                                            Job Title  \\\n",
       "0   Urgent Job Opening For AI Practitioner - Data ...   \n",
       "1                    Hiring For Senior Data Scientist   \n",
       "2                               Senior Data Scientist   \n",
       "3                                  Dataiku Consultant   \n",
       "4             Research and Development -AI/ML -(PhD )   \n",
       "5   Opportunity For Data Scientist - Female Candid...   \n",
       "6                        Senior Data Science Engineer   \n",
       "7                  Data Science - Engineering Manager   \n",
       "8                                      Data Scientist   \n",
       "9   Data & Analytics Tech - Informatica Cloud- Sen...   \n",
       "10                 Data Scientist: Advanced Analytics   \n",
       "11                                 Research Scientist   \n",
       "12                         Principal - Data Scientist   \n",
       "13          Data Scientist- Assistant Manager/Manager   \n",
       "14  EY GBS - Assistant Director - Data Science (10...   \n",
       "15                                     Data Scientist   \n",
       "16                    Data Scientist, Personalization   \n",
       "17                                      AWS Sagemaker   \n",
       "18                                     Data Scientist   \n",
       "19            Data Scientist: Artificial Intelligence   \n",
       "\n",
       "                       Company Name No.of Years  \\\n",
       "0                             Wipro   11-21 Yrs   \n",
       "1   TATA CONSULTANCY SERVICES (TCS)    8-13 Yrs   \n",
       "2                        Spiceworks     5-7 Yrs   \n",
       "3                             Wipro   10-16 Yrs   \n",
       "4                               EXL     4-8 Yrs   \n",
       "5                              PayU     1-3 Yrs   \n",
       "6                 Fractal Analytics     5-9 Yrs   \n",
       "7                             Paytm    9-13 Yrs   \n",
       "8                 Applied Materials     4-7 Yrs   \n",
       "9                               PwC    6-10 Yrs   \n",
       "10                              IBM     2-7 Yrs   \n",
       "11                              IBM     3-7 Yrs   \n",
       "12               Schneider Electric    7-10 Yrs   \n",
       "13                          Genpact     4-8 Yrs   \n",
       "14                            EYGBS   10-17 Yrs   \n",
       "15                              IBM    5-10 Yrs   \n",
       "16                          Walmart     3-6 Yrs   \n",
       "17                            Wipro    7-12 Yrs   \n",
       "18                            Wipro    9-14 Yrs   \n",
       "19                              IBM     3-7 Yrs   \n",
       "\n",
       "                                          Description  \n",
       "0   Qualification: Any Degree (Full time) Experien...  \n",
       "1   Ready to work in Flexible shift hours3 Co-ordi...  \n",
       "2   Who You Are: We are looking to hire a Senior D...  \n",
       "3   Strong knowledge / hands-on experience of vari...  \n",
       "4   Experience (including graduate school) on trai...  \n",
       "5   Proficiency in some of the following statistic...  \n",
       "6   Experience of working on end-to-end data scien...  \n",
       "7   Preferred Qualification : Bachelors / Masters ...  \n",
       "8   Good knowledge in statistics and math in deep ...  \n",
       "9   Good to have experience / exposure in Aurora, ...  \n",
       "10  Required Technical and Professional ExpertiseP...  \n",
       "11  Required Technical and Professional Expertise ...  \n",
       "12  Responsibilities : Partners with lines of busi...  \n",
       "13  Post-graduate degree (Masters) in Computer sci...  \n",
       "14  Position Details: Job Title : Assistant Direct...  \n",
       "15  As a Data Scientist at IBM, you will help tran...  \n",
       "16  PhD with > 2 years of experience or 4-year bac...  \n",
       "17  Proven experience using AWS Sagemaker leveragi...  \n",
       "18  Roles and Responsibilities Primary responsibil...  \n",
       "19  Well versed in Waston AssitanceRequired Techni...  "
      ]
     },
     "execution_count": 66,
     "metadata": {},
     "output_type": "execute_result"
    }
   ],
   "source": [
    "df = pd.DataFrame({'Job Title': job_titles,'Company Name':company_title,'No.of Years':expected_years,'Description':job_description})\n",
    "df"
   ]
  },
  {
   "cell_type": "code",
   "execution_count": null,
   "id": "ed9ebe1b",
   "metadata": {},
   "outputs": [],
   "source": []
  },
  {
   "cell_type": "code",
   "execution_count": null,
   "id": "02d80f8a",
   "metadata": {},
   "outputs": [],
   "source": [
    "# Q3: In this question you have to scrape data using the filters available on the webpage as shown below:\n",
    "You have to use the location and salary filter.\n",
    "You have to scrape data for “Data Scientist” designation for first 10 job results.\n",
    "You have to scrape the job-title, job-location, company name, experience required.\n",
    "The location filter to be used is “Delhi/NCR”. The salary filter to be used is “3-6” lakhs\n",
    "The task will be done as shown in the below steps:\n",
    "1. first get the webpage https://www.naukri.com/\n",
    "2. Enter “Data Scientist” in “Skill, Designations, and Companies” field.\n",
    "3. Then click the search button.\n",
    "4. Then apply the location filter and salary filter by checking the respective boxes\n",
    "5. Then scrape the data for the first 10 jobs results you get.\n",
    "6. Finally create a dataframe of the scraped data.\n",
    "Note: All of the above steps have to be done in code. No step is to be done manually."
   ]
  },
  {
   "cell_type": "code",
   "execution_count": 67,
   "id": "9f0cfeca",
   "metadata": {},
   "outputs": [],
   "source": [
    "import selenium\n",
    "from selenium import webdriver\n",
    "import pandas as pd\n",
    "import warnings\n",
    "warnings.filterwarnings(\"ignore\")"
   ]
  },
  {
   "cell_type": "code",
   "execution_count": 76,
   "id": "b2571ad3",
   "metadata": {},
   "outputs": [],
   "source": [
    "driver = webdriver.Chrome('chromedriver.exe')"
   ]
  },
  {
   "cell_type": "code",
   "execution_count": 77,
   "id": "fd265dd8",
   "metadata": {},
   "outputs": [],
   "source": [
    "url = 'https://www.naukri.com/'\n",
    "driver.get(url)"
   ]
  },
  {
   "cell_type": "code",
   "execution_count": 78,
   "id": "35d75359",
   "metadata": {},
   "outputs": [
    {
     "data": {
      "text/plain": [
       "<selenium.webdriver.remote.webelement.WebElement (session=\"0efc7c8e3a94066f8e3f4ea628b514cd\", element=\"51b34111-dd1c-46ff-9e67-afb40af5a293\")>"
      ]
     },
     "execution_count": 78,
     "metadata": {},
     "output_type": "execute_result"
    }
   ],
   "source": [
    "search_jobs=driver.find_element(By.CLASS_NAME,\"suggestor-input\")\n",
    "search_jobs"
   ]
  },
  {
   "cell_type": "code",
   "execution_count": 79,
   "id": "c92fe073",
   "metadata": {},
   "outputs": [],
   "source": [
    "search_jobs.send_keys(\"Data Scientist\")"
   ]
  },
  {
   "cell_type": "code",
   "execution_count": 81,
   "id": "5fde160e",
   "metadata": {},
   "outputs": [
    {
     "data": {
      "text/plain": [
       "<selenium.webdriver.remote.webelement.WebElement (session=\"0efc7c8e3a94066f8e3f4ea628b514cd\", element=\"edf40d83-d033-4e2e-9e56-96944ecdde11\")>"
      ]
     },
     "execution_count": 81,
     "metadata": {},
     "output_type": "execute_result"
    }
   ],
   "source": [
    "search_between = driver.find_element(By.XPATH,\"/html/body/div[1]/div[2]/div[3]/div/div/div[6]\")\n",
    "search_between"
   ]
  },
  {
   "cell_type": "code",
   "execution_count": 82,
   "id": "818ae5d9",
   "metadata": {},
   "outputs": [],
   "source": [
    "search_between.click()"
   ]
  },
  {
   "cell_type": "code",
   "execution_count": 85,
   "id": "59fa351b",
   "metadata": {},
   "outputs": [
    {
     "data": {
      "text/plain": [
       "<selenium.webdriver.remote.webelement.WebElement (session=\"0efc7c8e3a94066f8e3f4ea628b514cd\", element=\"c6c01253-c3bc-4e16-af98-15a686cab0ed\")>"
      ]
     },
     "execution_count": 85,
     "metadata": {},
     "output_type": "execute_result"
    }
   ],
   "source": [
    "salary_check = driver.find_element(By.XPATH,\"/html/body/div[1]/div[3]/div[2]/section[1]/div[2]/div[6]/div[2]/div[2]/label/p/span[1]\")\n",
    "salary_check"
   ]
  },
  {
   "cell_type": "code",
   "execution_count": 86,
   "id": "15fbee2d",
   "metadata": {},
   "outputs": [],
   "source": [
    "salary_check.click()"
   ]
  },
  {
   "cell_type": "code",
   "execution_count": 87,
   "id": "4844ade0",
   "metadata": {},
   "outputs": [
    {
     "data": {
      "text/plain": [
       "<selenium.webdriver.remote.webelement.WebElement (session=\"0efc7c8e3a94066f8e3f4ea628b514cd\", element=\"42bc1806-325b-44d8-bc6b-7df020c4774b\")>"
      ]
     },
     "execution_count": 87,
     "metadata": {},
     "output_type": "execute_result"
    }
   ],
   "source": [
    "location_check = driver.find_element(By.XPATH,\"/html/body/div[1]/div[3]/div[2]/section[1]/div[2]/div[6]/div[2]/div[3]/label/p/span[1]\")\n",
    "location_check"
   ]
  },
  {
   "cell_type": "code",
   "execution_count": 88,
   "id": "f0419af0",
   "metadata": {},
   "outputs": [],
   "source": [
    "location_check.click()"
   ]
  },
  {
   "cell_type": "code",
   "execution_count": 89,
   "id": "117907ce",
   "metadata": {},
   "outputs": [
    {
     "data": {
      "text/plain": [
       "20"
      ]
     },
     "execution_count": 89,
     "metadata": {},
     "output_type": "execute_result"
    }
   ],
   "source": [
    "title_tags = driver.find_elements(By.XPATH,'//a[@class=\"title fw500 ellipsis\"]')\n",
    "len(title_tags)"
   ]
  },
  {
   "cell_type": "code",
   "execution_count": 90,
   "id": "1ac9c768",
   "metadata": {},
   "outputs": [
    {
     "data": {
      "text/plain": [
       "['DigitalBCG GAMMA Data Scientist',\n",
       " 'Data Scientist - Noida/Bangalore',\n",
       " 'Senior Associate - Data Science',\n",
       " 'Data Scientist For Healthcare Product team',\n",
       " 'Data Scientist For Healthcare Product team',\n",
       " 'Data Scientist - MIND Infotech',\n",
       " 'Data Science Associate',\n",
       " 'Data Scientist - Engine Algorithm',\n",
       " 'Knowledge/Data Scientist',\n",
       " 'Data Scientist']"
      ]
     },
     "execution_count": 90,
     "metadata": {},
     "output_type": "execute_result"
    }
   ],
   "source": [
    "job_titles = []\n",
    "\n",
    "for i in title_tags:\n",
    "    job_titles.append(i.text)\n",
    "    \n",
    "job_titles[:10]"
   ]
  },
  {
   "cell_type": "code",
   "execution_count": 93,
   "id": "2358f021",
   "metadata": {},
   "outputs": [
    {
     "data": {
      "text/plain": [
       "20"
      ]
     },
     "execution_count": 93,
     "metadata": {},
     "output_type": "execute_result"
    }
   ],
   "source": [
    "job_location = driver.find_elements(By.XPATH,'//li[@class=\"fleft grey-text br2 placeHolderLi location\"]')\n",
    "len(job_location)"
   ]
  },
  {
   "cell_type": "code",
   "execution_count": 94,
   "id": "7fef4ccb",
   "metadata": {},
   "outputs": [
    {
     "data": {
      "text/plain": [
       "['New Delhi, Bangalore/Bengaluru',\n",
       " 'Noida, Bangalore/Bengaluru',\n",
       " 'Mumbai, Hyderabad/Secunderabad, Gurgaon/Gurugram, Bangalore/Bengaluru',\n",
       " 'Delhi / NCR, Chennai, Bangalore/Bengaluru',\n",
       " 'Delhi / NCR, Chennai, Bangalore/Bengaluru',\n",
       " 'Noida',\n",
       " 'Delhi / NCR(Vaishali)',\n",
       " 'Delhi / NCR, Kolkata, Mumbai, Hyderabad/Secunderabad, Lucknow, Chennai, Ahmedabad, Bangalore/Bengaluru',\n",
       " 'Delhi / NCR',\n",
       " 'Delhi / NCR, Pune, Bangalore/Bengaluru']"
      ]
     },
     "execution_count": 94,
     "metadata": {},
     "output_type": "execute_result"
    }
   ],
   "source": [
    "location = []\n",
    "\n",
    "for i in job_location:\n",
    "    location.append(i.text)\n",
    "    \n",
    "location[:10]"
   ]
  },
  {
   "cell_type": "code",
   "execution_count": 95,
   "id": "5e0364cb",
   "metadata": {},
   "outputs": [
    {
     "data": {
      "text/plain": [
       "20"
      ]
     },
     "execution_count": 95,
     "metadata": {},
     "output_type": "execute_result"
    }
   ],
   "source": [
    "company_name = driver.find_elements(By.XPATH,'//a[@class=\"subTitle ellipsis fleft\"]')\n",
    "len(company_name)"
   ]
  },
  {
   "cell_type": "code",
   "execution_count": 96,
   "id": "ac6351d0",
   "metadata": {},
   "outputs": [
    {
     "data": {
      "text/plain": [
       "['Boston Consulting Group',\n",
       " 'EXL',\n",
       " 'Black Turtle',\n",
       " 'SECUREKLOUD TECHNOLOGIES',\n",
       " 'SECUREKLOUD TECHNOLOGIES',\n",
       " 'MOTHERSONSUMI INFOTECH & DESIGNS LIMITED',\n",
       " 'Kreate Energy',\n",
       " 'Primo Hiring',\n",
       " 'BOLD Technology Systems',\n",
       " 'Mount Talent Consulting Private Limited']"
      ]
     },
     "execution_count": 96,
     "metadata": {},
     "output_type": "execute_result"
    }
   ],
   "source": [
    "company_title = []\n",
    "\n",
    "for i in company_name:\n",
    "    company_title.append(i.text)\n",
    "    \n",
    "company_title[:10]"
   ]
  },
  {
   "cell_type": "code",
   "execution_count": 97,
   "id": "13f10e28",
   "metadata": {},
   "outputs": [
    {
     "data": {
      "text/plain": [
       "20"
      ]
     },
     "execution_count": 97,
     "metadata": {},
     "output_type": "execute_result"
    }
   ],
   "source": [
    "experience = driver.find_elements(By.XPATH,'//li[@class=\"fleft grey-text br2 placeHolderLi experience\"]')\n",
    "len(experience)"
   ]
  },
  {
   "cell_type": "code",
   "execution_count": 98,
   "id": "92bea37e",
   "metadata": {},
   "outputs": [
    {
     "data": {
      "text/plain": [
       "['2-5 Yrs',\n",
       " '5-10 Yrs',\n",
       " '4-7 Yrs',\n",
       " '2-7 Yrs',\n",
       " '2-7 Yrs',\n",
       " '4-8 Yrs',\n",
       " '2-4 Yrs',\n",
       " '1-3 Yrs',\n",
       " '3-6 Yrs',\n",
       " '2-4 Yrs']"
      ]
     },
     "execution_count": 98,
     "metadata": {},
     "output_type": "execute_result"
    }
   ],
   "source": [
    "expected_years = []\n",
    "\n",
    "for i in experience:\n",
    "    expected_years.append(i.text)\n",
    "    \n",
    "expected_years[:10]"
   ]
  },
  {
   "cell_type": "code",
   "execution_count": 100,
   "id": "2679dec3",
   "metadata": {},
   "outputs": [
    {
     "data": {
      "text/html": [
       "<div>\n",
       "<style scoped>\n",
       "    .dataframe tbody tr th:only-of-type {\n",
       "        vertical-align: middle;\n",
       "    }\n",
       "\n",
       "    .dataframe tbody tr th {\n",
       "        vertical-align: top;\n",
       "    }\n",
       "\n",
       "    .dataframe thead th {\n",
       "        text-align: right;\n",
       "    }\n",
       "</style>\n",
       "<table border=\"1\" class=\"dataframe\">\n",
       "  <thead>\n",
       "    <tr style=\"text-align: right;\">\n",
       "      <th></th>\n",
       "      <th>Job Title</th>\n",
       "      <th>Job Location</th>\n",
       "      <th>Company Name</th>\n",
       "      <th>No.of Years</th>\n",
       "    </tr>\n",
       "  </thead>\n",
       "  <tbody>\n",
       "    <tr>\n",
       "      <th>0</th>\n",
       "      <td>DigitalBCG GAMMA Data Scientist</td>\n",
       "      <td>New Delhi, Bangalore/Bengaluru</td>\n",
       "      <td>Boston Consulting Group</td>\n",
       "      <td>2-5 Yrs</td>\n",
       "    </tr>\n",
       "    <tr>\n",
       "      <th>1</th>\n",
       "      <td>Data Scientist - Noida/Bangalore</td>\n",
       "      <td>Noida, Bangalore/Bengaluru</td>\n",
       "      <td>EXL</td>\n",
       "      <td>5-10 Yrs</td>\n",
       "    </tr>\n",
       "    <tr>\n",
       "      <th>2</th>\n",
       "      <td>Senior Associate - Data Science</td>\n",
       "      <td>Mumbai, Hyderabad/Secunderabad, Gurgaon/Gurugr...</td>\n",
       "      <td>Black Turtle</td>\n",
       "      <td>4-7 Yrs</td>\n",
       "    </tr>\n",
       "    <tr>\n",
       "      <th>3</th>\n",
       "      <td>Data Scientist For Healthcare Product team</td>\n",
       "      <td>Delhi / NCR, Chennai, Bangalore/Bengaluru</td>\n",
       "      <td>SECUREKLOUD TECHNOLOGIES</td>\n",
       "      <td>2-7 Yrs</td>\n",
       "    </tr>\n",
       "    <tr>\n",
       "      <th>4</th>\n",
       "      <td>Data Scientist For Healthcare Product team</td>\n",
       "      <td>Delhi / NCR, Chennai, Bangalore/Bengaluru</td>\n",
       "      <td>SECUREKLOUD TECHNOLOGIES</td>\n",
       "      <td>2-7 Yrs</td>\n",
       "    </tr>\n",
       "    <tr>\n",
       "      <th>5</th>\n",
       "      <td>Data Scientist - MIND Infotech</td>\n",
       "      <td>Noida</td>\n",
       "      <td>MOTHERSONSUMI INFOTECH &amp; DESIGNS LIMITED</td>\n",
       "      <td>4-8 Yrs</td>\n",
       "    </tr>\n",
       "    <tr>\n",
       "      <th>6</th>\n",
       "      <td>Data Science Associate</td>\n",
       "      <td>Delhi / NCR(Vaishali)</td>\n",
       "      <td>Kreate Energy</td>\n",
       "      <td>2-4 Yrs</td>\n",
       "    </tr>\n",
       "    <tr>\n",
       "      <th>7</th>\n",
       "      <td>Data Scientist - Engine Algorithm</td>\n",
       "      <td>Delhi / NCR, Kolkata, Mumbai, Hyderabad/Secund...</td>\n",
       "      <td>Primo Hiring</td>\n",
       "      <td>1-3 Yrs</td>\n",
       "    </tr>\n",
       "    <tr>\n",
       "      <th>8</th>\n",
       "      <td>Knowledge/Data Scientist</td>\n",
       "      <td>Delhi / NCR</td>\n",
       "      <td>BOLD Technology Systems</td>\n",
       "      <td>3-6 Yrs</td>\n",
       "    </tr>\n",
       "    <tr>\n",
       "      <th>9</th>\n",
       "      <td>Data Scientist</td>\n",
       "      <td>Delhi / NCR, Pune, Bangalore/Bengaluru</td>\n",
       "      <td>Mount Talent Consulting Private Limited</td>\n",
       "      <td>2-4 Yrs</td>\n",
       "    </tr>\n",
       "    <tr>\n",
       "      <th>10</th>\n",
       "      <td>Data Scientist</td>\n",
       "      <td>Delhi / NCR, Pune, Bangalore/Bengaluru</td>\n",
       "      <td>Mount Talent Consulting Private Limited</td>\n",
       "      <td>2-4 Yrs</td>\n",
       "    </tr>\n",
       "    <tr>\n",
       "      <th>11</th>\n",
       "      <td>Data Scientist</td>\n",
       "      <td>Delhi / NCR, Bangalore/Bengaluru, Mumbai (All ...</td>\n",
       "      <td>Sydata Consulting India Pvt Ltd</td>\n",
       "      <td>3-8 Yrs</td>\n",
       "    </tr>\n",
       "    <tr>\n",
       "      <th>12</th>\n",
       "      <td>Machine Learning Seniors</td>\n",
       "      <td>Hyderabad/Secunderabad, New Delhi</td>\n",
       "      <td>Walking Tree Consultancy Services pvt Ltd</td>\n",
       "      <td>2-5 Yrs</td>\n",
       "    </tr>\n",
       "    <tr>\n",
       "      <th>13</th>\n",
       "      <td>Data Science</td>\n",
       "      <td>Delhi / NCR, Noida, Faridabad, Gurgaon/Gurugra...</td>\n",
       "      <td>Mount Talent Consulting Private Limited</td>\n",
       "      <td>2-5 Yrs</td>\n",
       "    </tr>\n",
       "    <tr>\n",
       "      <th>14</th>\n",
       "      <td>Data Science</td>\n",
       "      <td>Delhi / NCR, Noida, Faridabad, Gurgaon/Gurugra...</td>\n",
       "      <td>Mount Talent Consulting Private Limited</td>\n",
       "      <td>2-5 Yrs</td>\n",
       "    </tr>\n",
       "    <tr>\n",
       "      <th>15</th>\n",
       "      <td>Data Scientist</td>\n",
       "      <td>Gurgaon/Gurugram</td>\n",
       "      <td>Kellton Tech Solutions</td>\n",
       "      <td>3-6 Yrs</td>\n",
       "    </tr>\n",
       "    <tr>\n",
       "      <th>16</th>\n",
       "      <td>Hiring || Data Scientist || North Delhi || 5.5...</td>\n",
       "      <td>Delhi / NCR(Netaji Subhash Place)</td>\n",
       "      <td>Shriram Automall</td>\n",
       "      <td>4-9 Yrs</td>\n",
       "    </tr>\n",
       "    <tr>\n",
       "      <th>17</th>\n",
       "      <td>Data scientist- Python</td>\n",
       "      <td>Gurgaon/Gurugram</td>\n",
       "      <td>TeamPlus Staffing Solution Pvt Ltd</td>\n",
       "      <td>3-6 Yrs</td>\n",
       "    </tr>\n",
       "    <tr>\n",
       "      <th>18</th>\n",
       "      <td>Data Engineer</td>\n",
       "      <td>Mumbai, New Delhi, Pune</td>\n",
       "      <td>excellence</td>\n",
       "      <td>4-9 Yrs</td>\n",
       "    </tr>\n",
       "    <tr>\n",
       "      <th>19</th>\n",
       "      <td>Associate Data Scientist - Java/ Scala/ Apache...</td>\n",
       "      <td>Noida</td>\n",
       "      <td>Smart work Consultants</td>\n",
       "      <td>1-4 Yrs</td>\n",
       "    </tr>\n",
       "  </tbody>\n",
       "</table>\n",
       "</div>"
      ],
      "text/plain": [
       "                                            Job Title  \\\n",
       "0                     DigitalBCG GAMMA Data Scientist   \n",
       "1                    Data Scientist - Noida/Bangalore   \n",
       "2                     Senior Associate - Data Science   \n",
       "3          Data Scientist For Healthcare Product team   \n",
       "4          Data Scientist For Healthcare Product team   \n",
       "5                      Data Scientist - MIND Infotech   \n",
       "6                              Data Science Associate   \n",
       "7                   Data Scientist - Engine Algorithm   \n",
       "8                            Knowledge/Data Scientist   \n",
       "9                                      Data Scientist   \n",
       "10                                     Data Scientist   \n",
       "11                                     Data Scientist   \n",
       "12                           Machine Learning Seniors   \n",
       "13                                       Data Science   \n",
       "14                                       Data Science   \n",
       "15                                     Data Scientist   \n",
       "16  Hiring || Data Scientist || North Delhi || 5.5...   \n",
       "17                             Data scientist- Python   \n",
       "18                                      Data Engineer   \n",
       "19  Associate Data Scientist - Java/ Scala/ Apache...   \n",
       "\n",
       "                                         Job Location  \\\n",
       "0                      New Delhi, Bangalore/Bengaluru   \n",
       "1                          Noida, Bangalore/Bengaluru   \n",
       "2   Mumbai, Hyderabad/Secunderabad, Gurgaon/Gurugr...   \n",
       "3           Delhi / NCR, Chennai, Bangalore/Bengaluru   \n",
       "4           Delhi / NCR, Chennai, Bangalore/Bengaluru   \n",
       "5                                               Noida   \n",
       "6                               Delhi / NCR(Vaishali)   \n",
       "7   Delhi / NCR, Kolkata, Mumbai, Hyderabad/Secund...   \n",
       "8                                         Delhi / NCR   \n",
       "9              Delhi / NCR, Pune, Bangalore/Bengaluru   \n",
       "10             Delhi / NCR, Pune, Bangalore/Bengaluru   \n",
       "11  Delhi / NCR, Bangalore/Bengaluru, Mumbai (All ...   \n",
       "12                  Hyderabad/Secunderabad, New Delhi   \n",
       "13  Delhi / NCR, Noida, Faridabad, Gurgaon/Gurugra...   \n",
       "14  Delhi / NCR, Noida, Faridabad, Gurgaon/Gurugra...   \n",
       "15                                   Gurgaon/Gurugram   \n",
       "16                  Delhi / NCR(Netaji Subhash Place)   \n",
       "17                                   Gurgaon/Gurugram   \n",
       "18                            Mumbai, New Delhi, Pune   \n",
       "19                                              Noida   \n",
       "\n",
       "                                 Company Name No.of Years  \n",
       "0                     Boston Consulting Group     2-5 Yrs  \n",
       "1                                         EXL    5-10 Yrs  \n",
       "2                                Black Turtle     4-7 Yrs  \n",
       "3                    SECUREKLOUD TECHNOLOGIES     2-7 Yrs  \n",
       "4                    SECUREKLOUD TECHNOLOGIES     2-7 Yrs  \n",
       "5    MOTHERSONSUMI INFOTECH & DESIGNS LIMITED     4-8 Yrs  \n",
       "6                               Kreate Energy     2-4 Yrs  \n",
       "7                                Primo Hiring     1-3 Yrs  \n",
       "8                     BOLD Technology Systems     3-6 Yrs  \n",
       "9     Mount Talent Consulting Private Limited     2-4 Yrs  \n",
       "10    Mount Talent Consulting Private Limited     2-4 Yrs  \n",
       "11            Sydata Consulting India Pvt Ltd     3-8 Yrs  \n",
       "12  Walking Tree Consultancy Services pvt Ltd     2-5 Yrs  \n",
       "13    Mount Talent Consulting Private Limited     2-5 Yrs  \n",
       "14    Mount Talent Consulting Private Limited     2-5 Yrs  \n",
       "15                     Kellton Tech Solutions     3-6 Yrs  \n",
       "16                           Shriram Automall     4-9 Yrs  \n",
       "17         TeamPlus Staffing Solution Pvt Ltd     3-6 Yrs  \n",
       "18                                 excellence     4-9 Yrs  \n",
       "19                     Smart work Consultants     1-4 Yrs  "
      ]
     },
     "execution_count": 100,
     "metadata": {},
     "output_type": "execute_result"
    }
   ],
   "source": [
    "df = pd.DataFrame({'Job Title': job_titles,'Job Location':location,'Company Name':company_title,'No.of Years':expected_years})\n",
    "df"
   ]
  },
  {
   "cell_type": "code",
   "execution_count": null,
   "id": "d562eaea",
   "metadata": {},
   "outputs": [],
   "source": []
  },
  {
   "cell_type": "code",
   "execution_count": null,
   "id": "6ce2b74b",
   "metadata": {},
   "outputs": [],
   "source": [
    "# Q4: Scrape data of first 100 sunglasses listings on flipkart.com. You have to scrape four attributes:\n",
    "1. Brand\n",
    "2. Product Description\n",
    "3. Price\n",
    "The attributes which you have to scrape is ticked marked in the below image.\n",
    "To scrape the data you have to go through following steps:\n",
    "1. Go to Flipkart webpage by url : https://www.flipkart.com/\n",
    "2. Enter “sunglasses” in the search field where “search for products, brands and more” is written and\n",
    "click the search icon\n",
    "3. After that you will reach to the page having a lot of sunglasses. From this page you can scrap the\n",
    "required data as usual.\n",
    "4. After scraping data from the first page, go to the “Next” Button at the bottom other page , then\n",
    "click on it.\n",
    "5. Now scrape data from this page as usual\n",
    "6. Repeat this until you get data for 100 sunglasses.\n",
    "Note: That all of the above steps have to be done by coding only and not manually."
   ]
  },
  {
   "cell_type": "code",
   "execution_count": 101,
   "id": "8b482367",
   "metadata": {},
   "outputs": [],
   "source": [
    "import selenium\n",
    "from selenium import webdriver\n",
    "import pandas as pd\n",
    "import warnings\n",
    "warnings.filterwarnings(\"ignore\")"
   ]
  },
  {
   "cell_type": "code",
   "execution_count": 102,
   "id": "9d369f2a",
   "metadata": {},
   "outputs": [],
   "source": [
    "driver = webdriver.Chrome('chromedriver.exe')"
   ]
  },
  {
   "cell_type": "code",
   "execution_count": 103,
   "id": "29f3cf1c",
   "metadata": {},
   "outputs": [],
   "source": [
    "url = 'https://www.flipkart.com/'\n",
    "driver.get(url)"
   ]
  },
  {
   "cell_type": "code",
   "execution_count": 106,
   "id": "9993d1d8",
   "metadata": {},
   "outputs": [
    {
     "data": {
      "text/plain": [
       "<selenium.webdriver.remote.webelement.WebElement (session=\"ca8c3491f5723b11bf278571e66bb275\", element=\"b7f04de4-23a7-430b-8d92-8b8bd279804a\")>"
      ]
     },
     "execution_count": 106,
     "metadata": {},
     "output_type": "execute_result"
    }
   ],
   "source": [
    "search_items=driver.find_element(By.CLASS_NAME,\"_3704LK\")\n",
    "search_items"
   ]
  },
  {
   "cell_type": "code",
   "execution_count": 107,
   "id": "3262554d",
   "metadata": {},
   "outputs": [],
   "source": [
    "search_items.send_keys(\"Sunglasses\")"
   ]
  },
  {
   "cell_type": "code",
   "execution_count": 109,
   "id": "4d9d60cd",
   "metadata": {},
   "outputs": [
    {
     "data": {
      "text/plain": [
       "<selenium.webdriver.remote.webelement.WebElement (session=\"ca8c3491f5723b11bf278571e66bb275\", element=\"6e997140-5ffe-465e-8ac1-cd3f704a1f2c\")>"
      ]
     },
     "execution_count": 109,
     "metadata": {},
     "output_type": "execute_result"
    }
   ],
   "source": [
    "search_between = driver.find_element(By.XPATH,\"/html/body/div[1]/div/div[1]/div[1]/div[2]/div[2]/form/div/button\")\n",
    "search_between"
   ]
  },
  {
   "cell_type": "code",
   "execution_count": 110,
   "id": "7e1a5305",
   "metadata": {},
   "outputs": [],
   "source": [
    "search_between.click()"
   ]
  },
  {
   "cell_type": "code",
   "execution_count": 111,
   "id": "f082e428",
   "metadata": {},
   "outputs": [
    {
     "data": {
      "text/plain": [
       "40"
      ]
     },
     "execution_count": 111,
     "metadata": {},
     "output_type": "execute_result"
    }
   ],
   "source": [
    "brand = driver.find_elements(By.XPATH,'//div[@class=\"_2WkVRV\"]')\n",
    "len(brand)"
   ]
  },
  {
   "cell_type": "code",
   "execution_count": 113,
   "id": "f08fdcbb",
   "metadata": {},
   "outputs": [
    {
     "data": {
      "text/plain": [
       "['DAHAAZIL',\n",
       " 'Elligator',\n",
       " 'New Specs',\n",
       " 'PIRASO',\n",
       " 'SUNBEE',\n",
       " 'Fastrack',\n",
       " 'Fastrack',\n",
       " 'ROZZETTA CRAFT',\n",
       " 'ROZZETTA CRAFT',\n",
       " 'PIRASO',\n",
       " 'SRPM',\n",
       " 'PIRASO',\n",
       " 'PIRASO',\n",
       " 'Fastrack',\n",
       " 'SHAAH COLLECTIONS',\n",
       " 'EYELLUSION',\n",
       " 'Hamiw',\n",
       " 'PIRASO',\n",
       " 'NuVew',\n",
       " 'Lee Topper',\n",
       " 'CRYSTAL CART',\n",
       " 'ROZZETTA CRAFT',\n",
       " 'Fastrack',\n",
       " 'Lee Topper',\n",
       " 'ROZZETTA CRAFT',\n",
       " 'SUNBEE',\n",
       " 'Lee Topper',\n",
       " 'Fastrack',\n",
       " 'Sewell',\n",
       " 'kingsunglasses',\n",
       " 'Fastrack',\n",
       " 'CRYSTAL CART',\n",
       " 'Fastrack',\n",
       " 'PIRASO',\n",
       " 'VINCENT CHASE',\n",
       " 'New Specs',\n",
       " 'AISLIN',\n",
       " 'DEIXELS',\n",
       " 'SHAAH COLLECTIONS',\n",
       " 'ROZZETTA CRAFT']"
      ]
     },
     "execution_count": 113,
     "metadata": {},
     "output_type": "execute_result"
    }
   ],
   "source": [
    "product_brand = []\n",
    "\n",
    "for i in brand:\n",
    "    product_brand.append(i.text)\n",
    "    \n",
    "product_brand[:]"
   ]
  },
  {
   "cell_type": "code",
   "execution_count": 115,
   "id": "6233b360",
   "metadata": {},
   "outputs": [
    {
     "data": {
      "text/plain": [
       "40"
      ]
     },
     "execution_count": 115,
     "metadata": {},
     "output_type": "execute_result"
    }
   ],
   "source": [
    "description = driver.find_elements(By.XPATH,'//a[@class=\"IRpwTa\"]')\n",
    "len(description)"
   ]
  },
  {
   "cell_type": "code",
   "execution_count": 116,
   "id": "67f62be3",
   "metadata": {},
   "outputs": [
    {
     "data": {
      "text/plain": [
       "['UV Protection, Night Vision, Riding Glasses Wayfarer, W...',\n",
       " 'UV Protection Round Sunglasses (54)',\n",
       " 'UV Protection Rectangular Sunglasses (Free Size)',\n",
       " 'UV Protection Aviator Sunglasses (54)',\n",
       " 'UV Protection, Polarized Wayfarer Sunglasses (Free Size...',\n",
       " 'UV Protection Rectangular Sunglasses (Free Size)',\n",
       " 'UV Protection Wayfarer Sunglasses (Free Size)',\n",
       " 'Polarized, Riding Glasses Sports, Wrap-around Sunglasse...',\n",
       " 'UV Protection, Gradient Retro Square Sunglasses (Free S...',\n",
       " 'UV Protection Aviator Sunglasses (54)',\n",
       " 'UV Protection Wayfarer Sunglasses (50)',\n",
       " 'UV Protection Aviator Sunglasses (58)',\n",
       " 'UV Protection Aviator Sunglasses (54)',\n",
       " 'UV Protection Aviator Sunglasses (Free Size)',\n",
       " 'UV Protection, Polarized, Mirrored Rectangular Sunglass...',\n",
       " 'UV Protection, Gradient, Night Vision, Riding Glasses, ...',\n",
       " 'UV Protection, Riding Glasses Round Sunglasses (Free Si...',\n",
       " 'UV Protection Wayfarer Sunglasses (32)',\n",
       " 'UV Protection Sports Sunglasses (62)',\n",
       " 'UV Protection Cat-eye Sunglasses (Free Size)',\n",
       " 'Mirrored, Night Vision Oval Sunglasses (Free Size)',\n",
       " 'UV Protection Rectangular Sunglasses (Free Size)',\n",
       " 'UV Protection Aviator Sunglasses (58)',\n",
       " 'UV Protection Rectangular Sunglasses (Free Size)',\n",
       " 'UV Protection, Gradient Rectangular Sunglasses (Free Si...',\n",
       " 'UV Protection, Polarized, Mirrored Retro Square Sunglas...',\n",
       " 'Riding Glasses Wrap-around Sunglasses (Free Size)',\n",
       " 'Mirrored, UV Protection Wayfarer Sunglasses (Free Size)',\n",
       " 'Mirrored, Night Vision, UV Protection, Riding Glasses S...',\n",
       " 'UV Protection Round Sunglasses (54)',\n",
       " 'Gradient, UV Protection Wayfarer Sunglasses (Free Size)',\n",
       " 'Polarized, UV Protection, Mirrored, Gradient Rectangula...',\n",
       " 'UV Protection Wayfarer Sunglasses (Free Size)',\n",
       " 'UV Protection Retro Square Sunglasses (52)',\n",
       " 'by Lenskart Polarized, UV Protection Wayfarer Sunglasse...',\n",
       " 'Mirrored, UV Protection, Riding Glasses, Others Round S...',\n",
       " 'UV Protection, Gradient Butterfly, Retro Square Sunglas...',\n",
       " 'UV Protection Aviator Sunglasses (Free Size)',\n",
       " 'UV Protection Round Sunglasses (Free Size)',\n",
       " 'UV Protection Retro Square Sunglasses (Free Size)']"
      ]
     },
     "execution_count": 116,
     "metadata": {},
     "output_type": "execute_result"
    }
   ],
   "source": [
    "product_description = []\n",
    "\n",
    "for i in description:\n",
    "    product_description.append(i.text)\n",
    "    \n",
    "product_description[:]"
   ]
  },
  {
   "cell_type": "code",
   "execution_count": 119,
   "id": "fe4d1189",
   "metadata": {},
   "outputs": [
    {
     "data": {
      "text/plain": [
       "45"
      ]
     },
     "execution_count": 119,
     "metadata": {},
     "output_type": "execute_result"
    }
   ],
   "source": [
    "price = driver.find_elements(By.XPATH,'//div[@class=\"_25b18c\"]')\n",
    "len(price)"
   ]
  },
  {
   "cell_type": "code",
   "execution_count": 120,
   "id": "a35c3952",
   "metadata": {},
   "outputs": [
    {
     "data": {
      "text/plain": [
       "['₹177₹99982% off',\n",
       " '₹298₹2,49588% off',\n",
       " '₹264₹2,59989% off',\n",
       " '₹249₹1,59984% off',\n",
       " '₹283₹1,29978% off',\n",
       " '₹639₹79920% off',\n",
       " '₹719₹99928% off',\n",
       " '₹474₹1,99976% off',\n",
       " '₹331₹1,99983% off',\n",
       " '₹249₹1,59984% off',\n",
       " '₹211₹1,29983% off',\n",
       " '₹359₹2,59986% off',\n",
       " '₹246₹1,59984% off',\n",
       " '₹639₹79920% off',\n",
       " '₹195₹1,69988% off',\n",
       " '₹220₹1,29983% off',\n",
       " '₹199₹1,49986% off',\n",
       " '₹226₹1,59985% off',\n",
       " '₹291₹1,24576% off',\n",
       " '₹229₹1,29982% off',\n",
       " '₹189₹59968% off',\n",
       " '₹303₹1,49979% off',\n",
       " '₹1,039₹1,29920% off',\n",
       " '₹219₹99978% off',\n",
       " '₹379₹1,99981% off',\n",
       " '₹259₹1,29980% off',\n",
       " '₹299₹2,49988% off',\n",
       " '₹799₹99920% off',\n",
       " '₹265₹1,49982% off',\n",
       " '₹214₹99978% off',\n",
       " '₹639₹89928% off',\n",
       " '₹529₹2,09974% off',\n",
       " '₹719₹89920% off',\n",
       " '₹306₹2,59988% off',\n",
       " '₹749₹2,50070% off',\n",
       " '₹299₹1,59981% off',\n",
       " '₹498₹1,52567% off',\n",
       " '₹224₹1,19981% off',\n",
       " '₹289₹1,29977% off',\n",
       " '₹474₹2,22578% off',\n",
       " '₹22083% off',\n",
       " '₹71928% off',\n",
       " '₹33183% off',\n",
       " '₹29981% off',\n",
       " '₹52974% off']"
      ]
     },
     "execution_count": 120,
     "metadata": {},
     "output_type": "execute_result"
    }
   ],
   "source": [
    "product_price = []\n",
    "\n",
    "for i in price:\n",
    "    product_price.append(i.text)\n",
    "    \n",
    "product_price[:]"
   ]
  },
  {
   "cell_type": "code",
   "execution_count": 121,
   "id": "ed75f54f",
   "metadata": {},
   "outputs": [
    {
     "data": {
      "text/plain": [
       "<selenium.webdriver.remote.webelement.WebElement (session=\"ca8c3491f5723b11bf278571e66bb275\", element=\"396847be-eea2-43d0-9eb9-bb8c4c80e1f4\")>"
      ]
     },
     "execution_count": 121,
     "metadata": {},
     "output_type": "execute_result"
    }
   ],
   "source": [
    "search_page = driver.find_element(By.XPATH,\"/html/body/div[1]/div/div[3]/div[1]/div[2]/div[12]/div/div/nav/a[11]\")\n",
    "search_page"
   ]
  },
  {
   "cell_type": "code",
   "execution_count": 122,
   "id": "49a4f03b",
   "metadata": {},
   "outputs": [],
   "source": [
    "search_page.click()"
   ]
  },
  {
   "cell_type": "code",
   "execution_count": 123,
   "id": "3dfe5f7d",
   "metadata": {},
   "outputs": [
    {
     "data": {
      "text/plain": [
       "40"
      ]
     },
     "execution_count": 123,
     "metadata": {},
     "output_type": "execute_result"
    }
   ],
   "source": [
    "brands = driver.find_elements(By.XPATH,'//div[@class=\"_2WkVRV\"]')\n",
    "len(brands)"
   ]
  },
  {
   "cell_type": "code",
   "execution_count": 124,
   "id": "1d555fc0",
   "metadata": {},
   "outputs": [
    {
     "data": {
      "text/plain": [
       "['Fastrack',\n",
       " 'kingsunglasses',\n",
       " 'kingsunglasses',\n",
       " 'Elligator',\n",
       " 'PIRASO',\n",
       " 'HAMIW COLLECTION',\n",
       " 'ROYAL SON',\n",
       " 'AISLIN',\n",
       " 'ROYAL SON',\n",
       " 'Mi',\n",
       " 'VINCENT CHASE',\n",
       " 'Mi',\n",
       " 'New Specs',\n",
       " 'Urbanic',\n",
       " 'Lee Topper',\n",
       " 'ROZZETTA CRAFT',\n",
       " 'SUNBEE',\n",
       " 'kingsunglasses',\n",
       " 'SRPM',\n",
       " 'GANSTA',\n",
       " 'Silver Kartz',\n",
       " 'kingsunglasses',\n",
       " 'ROZZETTA CRAFT',\n",
       " 'Fastrack',\n",
       " 'Fastrack',\n",
       " 'VINCENT CHASE',\n",
       " 'ROYAL SON',\n",
       " 'Fastrack',\n",
       " 'AISLIN',\n",
       " 'Singco India',\n",
       " 'VINCENT CHASE',\n",
       " 'ROYAL SON',\n",
       " 'New Specs',\n",
       " 'kingsunglasses',\n",
       " 'PIRASO',\n",
       " 'Fastrack',\n",
       " 'HAMIW COLLECTION',\n",
       " 'ROYAL SON',\n",
       " 'Singco India',\n",
       " 'Singco India']"
      ]
     },
     "execution_count": 124,
     "metadata": {},
     "output_type": "execute_result"
    }
   ],
   "source": [
    "product_brands = []\n",
    "\n",
    "for i in brands:\n",
    "    product_brands.append(i.text)\n",
    "    \n",
    "product_brands[:]"
   ]
  },
  {
   "cell_type": "code",
   "execution_count": 125,
   "id": "7dedcafa",
   "metadata": {},
   "outputs": [
    {
     "data": {
      "text/plain": [
       "40"
      ]
     },
     "execution_count": 125,
     "metadata": {},
     "output_type": "execute_result"
    }
   ],
   "source": [
    "descriptions = driver.find_elements(By.XPATH,'//a[@class=\"IRpwTa\"]')\n",
    "len(descriptions)"
   ]
  },
  {
   "cell_type": "code",
   "execution_count": 126,
   "id": "cb5bd03a",
   "metadata": {},
   "outputs": [
    {
     "data": {
      "text/plain": [
       "['UV Protection Shield Sunglasses (Free Size)',\n",
       " 'UV Protection, Mirrored Aviator Sunglasses (Free Size)',\n",
       " 'UV Protection, Riding Glasses, Mirrored Wayfarer Sungla...',\n",
       " 'UV Protection Round Sunglasses (53)',\n",
       " 'UV Protection Aviator Sunglasses (55)',\n",
       " 'UV Protection Round Sunglasses (53)',\n",
       " 'Mirrored Aviator Sunglasses (55)',\n",
       " 'UV Protection, Gradient Butterfly, Retro Square Sunglas...',\n",
       " 'Mirrored Aviator Sunglasses (58)',\n",
       " 'Polarized Aviator Sunglasses (Free Size)',\n",
       " 'by Lenskart Polarized, UV Protection Cat-eye Sunglasses...',\n",
       " 'Polarized Aviator Sunglasses (Free Size)',\n",
       " 'UV Protection Rectangular Sunglasses (Free Size)',\n",
       " 'Others Oval Sunglasses (Free Size)',\n",
       " 'UV Protection Round Sunglasses (Free Size)',\n",
       " 'UV Protection, Gradient Rectangular Sunglasses (Free Si...',\n",
       " 'UV Protection, Polarized, Mirrored Wayfarer Sunglasses ...',\n",
       " 'Mirrored, UV Protection Wayfarer, Rectangular Sunglasse...',\n",
       " 'Night Vision, UV Protection Round Sunglasses (54)',\n",
       " 'UV Protection, Riding Glasses Aviator Sunglasses (57)',\n",
       " 'UV Protection Wayfarer Sunglasses (Free Size)',\n",
       " 'UV Protection Round Sunglasses (Free Size)',\n",
       " 'UV Protection, Gradient Round Sunglasses (Free Size)',\n",
       " 'UV Protection Shield Sunglasses (Free Size)',\n",
       " 'Gradient, UV Protection Wayfarer Sunglasses (Free Size)',\n",
       " 'by Lenskart Polarized, UV Protection Rectangular Sungla...',\n",
       " 'UV Protection, Gradient Butterfly Sunglasses (62)',\n",
       " 'UV Protection Aviator Sunglasses (57)',\n",
       " 'UV Protection, Gradient Retro Square Sunglasses (58)',\n",
       " 'Gradient, Toughened Glass Lens, UV Protection Retro Squ...',\n",
       " 'by Lenskart Polarized, UV Protection Cat-eye Sunglasses...',\n",
       " 'UV Protection Rectangular, Retro Square Sunglasses (58)',\n",
       " 'UV Protection Aviator Sunglasses (Free Size)',\n",
       " 'Mirrored, UV Protection Wayfarer Sunglasses (Free Size)',\n",
       " 'UV Protection Over-sized Sunglasses (60)',\n",
       " 'UV Protection Wayfarer Sunglasses (Free Size)',\n",
       " 'UV Protection Wayfarer, Sports, Shield, Rectangular, Re...',\n",
       " 'Mirrored Aviator Sunglasses (Free Size)',\n",
       " 'Gradient, Toughened Glass Lens, UV Protection Retro Squ...',\n",
       " 'Gradient, Toughened Glass Lens, UV Protection Retro Squ...']"
      ]
     },
     "execution_count": 126,
     "metadata": {},
     "output_type": "execute_result"
    }
   ],
   "source": [
    "product_descriptions = []\n",
    "\n",
    "for i in descriptions:\n",
    "    product_descriptions.append(i.text)\n",
    "    \n",
    "product_descriptions[:]"
   ]
  },
  {
   "cell_type": "code",
   "execution_count": 127,
   "id": "e1d43caf",
   "metadata": {},
   "outputs": [
    {
     "data": {
      "text/plain": [
       "45"
      ]
     },
     "execution_count": 127,
     "metadata": {},
     "output_type": "execute_result"
    }
   ],
   "source": [
    "prices = driver.find_elements(By.XPATH,'//div[@class=\"_25b18c\"]')\n",
    "len(prices)"
   ]
  },
  {
   "cell_type": "code",
   "execution_count": 128,
   "id": "7e8d3cbe",
   "metadata": {},
   "outputs": [
    {
     "data": {
      "text/plain": [
       "['₹809₹89910% off',\n",
       " '₹269₹1,89985% off',\n",
       " '₹213₹1,19982% off',\n",
       " '₹231₹99876% off',\n",
       " '₹246₹1,59984% off',\n",
       " '₹199₹1,59987% off',\n",
       " '₹379₹1,49974% off',\n",
       " '₹554₹1,52563% off',\n",
       " '₹379₹1,49974% off',\n",
       " '₹1,009₹1,19915% off',\n",
       " '₹949₹1,99952% off',\n",
       " '₹949₹1,19920% off',\n",
       " '₹189₹1,59988% off',\n",
       " '₹719₹99027% off',\n",
       " '₹245₹99975% off',\n",
       " '₹426₹1,99978% off',\n",
       " '₹283₹1,29978% off',\n",
       " '₹289₹1,99985% off',\n",
       " '₹246₹99975% off',\n",
       " '₹349₹1,99982% off',\n",
       " '₹288₹1,49980% off',\n",
       " '₹329₹1,59979% off',\n",
       " '₹379₹1,99981% off',\n",
       " '₹719₹89920% off',\n",
       " '₹639₹79920% off',\n",
       " '₹749₹1,99962% off',\n",
       " '₹699₹1,99965% off',\n",
       " '₹639₹79920% off',\n",
       " '₹554₹1,52563% off',\n",
       " '₹598₹2,99980% off',\n",
       " '₹799₹1,99960% off',\n",
       " '₹474₹1,49968% off',\n",
       " '₹214₹1,59986% off',\n",
       " '₹269₹1,49982% off',\n",
       " '₹439₹2,59983% off',\n",
       " '₹809₹89910% off',\n",
       " '₹179₹1,49988% off',\n",
       " '₹379₹1,49974% off',\n",
       " '₹629₹3,20080% off',\n",
       " '₹664₹3,20079% off',\n",
       " '₹22083% off',\n",
       " '₹71928% off',\n",
       " '₹33183% off',\n",
       " '₹29981% off',\n",
       " '₹52974% off']"
      ]
     },
     "execution_count": 128,
     "metadata": {},
     "output_type": "execute_result"
    }
   ],
   "source": [
    "product_prices = []\n",
    "\n",
    "for i in prices:\n",
    "    product_prices.append(i.text)\n",
    "    \n",
    "product_prices[:]"
   ]
  },
  {
   "cell_type": "code",
   "execution_count": 129,
   "id": "c817b5d5",
   "metadata": {},
   "outputs": [
    {
     "data": {
      "text/plain": [
       "<selenium.webdriver.remote.webelement.WebElement (session=\"ca8c3491f5723b11bf278571e66bb275\", element=\"396847be-eea2-43d0-9eb9-bb8c4c80e1f4\")>"
      ]
     },
     "execution_count": 129,
     "metadata": {},
     "output_type": "execute_result"
    }
   ],
   "source": [
    "search_pages = driver.find_element(By.XPATH,\"/html/body/div[1]/div/div[3]/div[1]/div[2]/div[12]/div/div/nav/a[12]\")\n",
    "search_pages"
   ]
  },
  {
   "cell_type": "code",
   "execution_count": 130,
   "id": "b03397d5",
   "metadata": {},
   "outputs": [],
   "source": [
    "search_page.click()"
   ]
  },
  {
   "cell_type": "code",
   "execution_count": 131,
   "id": "70ad84b0",
   "metadata": {},
   "outputs": [
    {
     "data": {
      "text/plain": [
       "40"
      ]
     },
     "execution_count": 131,
     "metadata": {},
     "output_type": "execute_result"
    }
   ],
   "source": [
    "brandss = driver.find_elements(By.XPATH,'//div[@class=\"_2WkVRV\"]')\n",
    "len(brandss)"
   ]
  },
  {
   "cell_type": "code",
   "execution_count": 132,
   "id": "84383f82",
   "metadata": {},
   "outputs": [
    {
     "data": {
      "text/plain": [
       "['kingsunglasses',\n",
       " 'New Specs',\n",
       " 'Fastrack',\n",
       " 'kingsunglasses',\n",
       " 'elegante',\n",
       " 'VINCENT CHASE',\n",
       " 'kingsunglasses',\n",
       " 'AISLIN',\n",
       " 'Fastrack',\n",
       " 'Fastrack',\n",
       " 'VINCENT CHASE',\n",
       " 'PHENOMENAL',\n",
       " 'hipe',\n",
       " 'ROYAL SON',\n",
       " 'ROZZETTA CRAFT',\n",
       " 'kingsunglasses',\n",
       " 'GANSTA',\n",
       " 'PIRASO',\n",
       " 'SHAAH COLLECTIONS',\n",
       " 'AISLIN']"
      ]
     },
     "execution_count": 132,
     "metadata": {},
     "output_type": "execute_result"
    }
   ],
   "source": [
    "product_brandss = []\n",
    "\n",
    "for i in brandss:\n",
    "    product_brandss.append(i.text)\n",
    "    \n",
    "product_brandss[:20]"
   ]
  },
  {
   "cell_type": "code",
   "execution_count": 133,
   "id": "f9b63271",
   "metadata": {},
   "outputs": [
    {
     "data": {
      "text/plain": [
       "40"
      ]
     },
     "execution_count": 133,
     "metadata": {},
     "output_type": "execute_result"
    }
   ],
   "source": [
    "descriptionss = driver.find_elements(By.XPATH,'//a[@class=\"IRpwTa\"]')\n",
    "len(descriptionss)"
   ]
  },
  {
   "cell_type": "code",
   "execution_count": 135,
   "id": "62f875ef",
   "metadata": {},
   "outputs": [
    {
     "data": {
      "text/plain": [
       "['UV Protection Rectangular Sunglasses (55)',\n",
       " 'UV Protection Round Sunglasses (Free Size)',\n",
       " 'UV Protection Aviator Sunglasses (58)',\n",
       " 'Mirrored, UV Protection Wayfarer Sunglasses (53)',\n",
       " 'Polarized, Riding Glasses, Night Vision Sports Sunglass...',\n",
       " 'Polarized, UV Protection Round Sunglasses (50)',\n",
       " 'UV Protection, Night Vision Wayfarer Sunglasses (Free S...',\n",
       " 'UV Protection, Gradient Oval Sunglasses (58)',\n",
       " 'UV Protection Wayfarer Sunglasses (Free Size)',\n",
       " 'UV Protection Wayfarer Sunglasses (Free Size)',\n",
       " 'by Lenskart Polarized, UV Protection Rectangular Sungla...',\n",
       " 'UV Protection Retro Square Sunglasses (Free Size)',\n",
       " 'Mirrored, Gradient, Riding Glasses Round Sunglasses (55...',\n",
       " 'UV Protection, Gradient Wayfarer Sunglasses (55)',\n",
       " 'UV Protection, Riding Glasses Rectangular Sunglasses (F...',\n",
       " 'UV Protection Rectangular Sunglasses (55)',\n",
       " 'UV Protection Aviator Sunglasses (57)',\n",
       " 'UV Protection Over-sized Sunglasses (65)',\n",
       " 'UV Protection Round Sunglasses (Free Size)',\n",
       " 'UV Protection, Gradient Butterfly, Retro Square Sunglas...']"
      ]
     },
     "execution_count": 135,
     "metadata": {},
     "output_type": "execute_result"
    }
   ],
   "source": [
    "product_descriptionss = []\n",
    "\n",
    "for i in descriptionss:\n",
    "    product_descriptionss.append(i.text)\n",
    "    \n",
    "product_descriptionss[:20]"
   ]
  },
  {
   "cell_type": "code",
   "execution_count": 136,
   "id": "cecbf804",
   "metadata": {},
   "outputs": [
    {
     "data": {
      "text/plain": [
       "45"
      ]
     },
     "execution_count": 136,
     "metadata": {},
     "output_type": "execute_result"
    }
   ],
   "source": [
    "pricess = driver.find_elements(By.XPATH,'//div[@class=\"_25b18c\"]')\n",
    "len(pricess)"
   ]
  },
  {
   "cell_type": "code",
   "execution_count": 137,
   "id": "f2859145",
   "metadata": {},
   "outputs": [
    {
     "data": {
      "text/plain": [
       "['₹269₹1,49982% off',\n",
       " '₹268₹1,29979% off',\n",
       " '₹1,039₹1,29920% off',\n",
       " '₹299₹1,99985% off',\n",
       " '₹499₹2,29978% off',\n",
       " '₹849₹1,99957% off',\n",
       " '₹299₹1,69982% off',\n",
       " '₹554₹1,52563% off',\n",
       " '₹899₹99910% off',\n",
       " '₹639₹79920% off',\n",
       " '₹849₹1,99957% off',\n",
       " '₹369₹1,99981% off',\n",
       " '₹210₹1,39884% off',\n",
       " '₹217₹99978% off',\n",
       " '₹426₹2,22580% off',\n",
       " '₹189₹1,29985% off',\n",
       " '₹349₹1,99982% off',\n",
       " '₹419₹2,59983% off',\n",
       " '₹324₹1,69980% off',\n",
       " '₹554₹1,52563% off']"
      ]
     },
     "execution_count": 137,
     "metadata": {},
     "output_type": "execute_result"
    }
   ],
   "source": [
    "product_pricess = []\n",
    "\n",
    "for i in pricess:\n",
    "    product_pricess.append(i.text)\n",
    "    \n",
    "product_pricess[:20]"
   ]
  },
  {
   "cell_type": "code",
   "execution_count": null,
   "id": "d778b6f8",
   "metadata": {},
   "outputs": [],
   "source": []
  },
  {
   "cell_type": "code",
   "execution_count": null,
   "id": "630a0a39",
   "metadata": {},
   "outputs": [],
   "source": [
    "# Q5: Scrape 100 reviews data from flipkart.com for iphone11 phone.\n",
    "This task will be done in following steps:\n",
    "1. First get the webpage https://www.flipkart.com/\n",
    "2. Enter “iphone 11” in “Search” field .\n",
    "3. Then click the search button.\n",
    "You will reach to the below shown webpage\n",
    "As shown in the above page you have to scrape the tick marked attributes.These are:\n",
    "1. Rating\n",
    "2. Review summary\n",
    "3. Full review\n",
    "4. You have to scrape this data for first 100 reviews.\n",
    "Note: All the steps required during scraping should be done through code only and not manually."
   ]
  },
  {
   "cell_type": "code",
   "execution_count": 141,
   "id": "2978e50b",
   "metadata": {},
   "outputs": [],
   "source": [
    "import selenium\n",
    "from selenium import webdriver\n",
    "import pandas as pd\n",
    "import warnings\n",
    "warnings.filterwarnings(\"ignore\")"
   ]
  },
  {
   "cell_type": "code",
   "execution_count": 153,
   "id": "a76bf29a",
   "metadata": {},
   "outputs": [],
   "source": [
    "driver = webdriver.Chrome('chromedriver.exe')"
   ]
  },
  {
   "cell_type": "code",
   "execution_count": 154,
   "id": "441fdacc",
   "metadata": {},
   "outputs": [],
   "source": [
    "url = 'https://www.flipkart.com/'\n",
    "driver.get(url)"
   ]
  },
  {
   "cell_type": "code",
   "execution_count": 155,
   "id": "8e0b553c",
   "metadata": {},
   "outputs": [
    {
     "data": {
      "text/plain": [
       "<selenium.webdriver.remote.webelement.WebElement (session=\"9bbb67263650e79f0bd39ebac966f135\", element=\"8a755a10-9fea-4c0f-819b-c3beb84072d1\")>"
      ]
     },
     "execution_count": 155,
     "metadata": {},
     "output_type": "execute_result"
    }
   ],
   "source": [
    "search_items=driver.find_element(By.CLASS_NAME,\"_3704LK\")\n",
    "search_items"
   ]
  },
  {
   "cell_type": "code",
   "execution_count": 156,
   "id": "69ced99f",
   "metadata": {},
   "outputs": [],
   "source": [
    "search_items.send_keys(\"Iphone 11\")"
   ]
  },
  {
   "cell_type": "code",
   "execution_count": 159,
   "id": "7ff47368",
   "metadata": {},
   "outputs": [
    {
     "data": {
      "text/plain": [
       "<selenium.webdriver.remote.webelement.WebElement (session=\"9bbb67263650e79f0bd39ebac966f135\", element=\"27b7b0c3-c9e5-4e5b-a1e5-2c759b677d24\")>"
      ]
     },
     "execution_count": 159,
     "metadata": {},
     "output_type": "execute_result"
    }
   ],
   "source": [
    "search_between = driver.find_element(By.XPATH,\"/html/body/div[1]/div/div[1]/div[1]/div[2]/div[2]/form/div/button\")\n",
    "search_between"
   ]
  },
  {
   "cell_type": "code",
   "execution_count": 160,
   "id": "2a6d6a60",
   "metadata": {},
   "outputs": [],
   "source": [
    "search_between.click()"
   ]
  },
  {
   "cell_type": "code",
   "execution_count": 170,
   "id": "88b30950",
   "metadata": {},
   "outputs": [
    {
     "data": {
      "text/plain": [
       "7"
      ]
     },
     "execution_count": 170,
     "metadata": {},
     "output_type": "execute_result"
    }
   ],
   "source": [
    "rating = driver.find_elements(By.XPATH,'//div[@class=\"_3LWZlK _1BLPMq\"]')\n",
    "len(rating)"
   ]
  },
  {
   "cell_type": "code",
   "execution_count": 171,
   "id": "7bf68bba",
   "metadata": {},
   "outputs": [
    {
     "data": {
      "text/plain": [
       "['5', '5', '5', '5', '5', '4', '5']"
      ]
     },
     "execution_count": 171,
     "metadata": {},
     "output_type": "execute_result"
    }
   ],
   "source": [
    "Rating = []\n",
    "\n",
    "for i in rating:\n",
    "    Rating.append(i.text)\n",
    "    \n",
    "Rating[:]"
   ]
  },
  {
   "cell_type": "code",
   "execution_count": 175,
   "id": "688adbf8",
   "metadata": {},
   "outputs": [
    {
     "data": {
      "text/plain": [
       "8"
      ]
     },
     "execution_count": 175,
     "metadata": {},
     "output_type": "execute_result"
    }
   ],
   "source": [
    "summary = driver.find_elements(By.XPATH,'//p[@class=\"_2-N8zT\"]')\n",
    "len(summary)"
   ]
  },
  {
   "cell_type": "code",
   "execution_count": 177,
   "id": "b155a134",
   "metadata": {},
   "outputs": [
    {
     "data": {
      "text/plain": [
       "['Best phone still @25-27K',\n",
       " 'Terrific purchase',\n",
       " 'Fabulous!',\n",
       " 'Great product',\n",
       " 'Simply awesome',\n",
       " 'Great product',\n",
       " 'Good quality product']"
      ]
     },
     "execution_count": 177,
     "metadata": {},
     "output_type": "execute_result"
    }
   ],
   "source": [
    "Review_summary = []\n",
    "\n",
    "for i in summary:\n",
    "    Review_summary.append(i.text)\n",
    "    \n",
    "Review_summary[:7]"
   ]
  },
  {
   "cell_type": "code",
   "execution_count": 178,
   "id": "98b19254",
   "metadata": {},
   "outputs": [
    {
     "data": {
      "text/plain": [
       "8"
      ]
     },
     "execution_count": 178,
     "metadata": {},
     "output_type": "execute_result"
    }
   ],
   "source": [
    "full = driver.find_elements(By.XPATH,'//div[@class=\"t-ZTKy\"]')\n",
    "len(full)"
   ]
  },
  {
   "cell_type": "code",
   "execution_count": 179,
   "id": "4a8bc989",
   "metadata": {},
   "outputs": [
    {
     "data": {
      "text/plain": [
       "['Purchased at BBD @2016 Oct. After 5months of use, Found Good/Bad points in it:\\nGood Points:\\n1. Slim\\n2. Handy\\n3. No virus problem\\n4. No heating ( just during...\\nRead full review',\n",
       " 'Using since 2018 and it still works well!',\n",
       " 'Fast performance to previous iPhone x\\nGood camera quality but the best part of night mode #killing\\n\\nI am already One-plus7\\nHuge difference between in night m...\\nRead full review',\n",
       " 'Nithing to say..just awesome',\n",
       " 'Really satisfied with the Product I received... It’s totally genuine and the packaging was also really good so if ur planning to buy just go for it.',\n",
       " 'Excellent worth every penny',\n",
       " \"impressively Nice......\\nOne of the greatest iPhone i ever used ....\\nAll was like Never before ...\\nit's just Amazing ...\\nBattery Life is too good ...2 Days wi...\\nRead full review\"]"
      ]
     },
     "execution_count": 179,
     "metadata": {},
     "output_type": "execute_result"
    }
   ],
   "source": [
    "Full_review = []\n",
    "\n",
    "for i in full:\n",
    "    Full_review.append(i.text)\n",
    "Full_review[:7]"
   ]
  },
  {
   "cell_type": "code",
   "execution_count": 187,
   "id": "08b9e68b",
   "metadata": {},
   "outputs": [],
   "source": [
    "### Requesting your help how to get first product 100 reviews in based on multiple pages or we have to do individual pages by scraping. I was able to scrape iphone 11 black as per image which was shared"
   ]
  },
  {
   "cell_type": "code",
   "execution_count": null,
   "id": "0f29a94d",
   "metadata": {},
   "outputs": [],
   "source": []
  },
  {
   "cell_type": "code",
   "execution_count": null,
   "id": "3fe3d751",
   "metadata": {},
   "outputs": [],
   "source": [
    "#Q6: Scrape data for first 100 sneakers you find when you visit flipkart.com and search for “sneakers” in the\n",
    "search field.\n",
    "You have to scrape 4 attributes of each sneaker:\n",
    "1. Brand\n",
    "2. Product Description\n",
    "3. Price\n",
    "As shown in the below image, you have to scrape the tick marked attributes.\n",
    "Note: All the steps required during scraping should be done through code only and not manually."
   ]
  },
  {
   "cell_type": "code",
   "execution_count": 188,
   "id": "6a6ced43",
   "metadata": {},
   "outputs": [],
   "source": [
    "import selenium\n",
    "from selenium import webdriver\n",
    "import pandas as pd\n",
    "import warnings\n",
    "warnings.filterwarnings(\"ignore\")"
   ]
  },
  {
   "cell_type": "code",
   "execution_count": 189,
   "id": "6206c533",
   "metadata": {},
   "outputs": [],
   "source": [
    "driver = webdriver.Chrome('chromedriver.exe')"
   ]
  },
  {
   "cell_type": "code",
   "execution_count": 190,
   "id": "cc27a359",
   "metadata": {},
   "outputs": [],
   "source": [
    "url = 'https://www.flipkart.com/'\n",
    "driver.get(url)"
   ]
  },
  {
   "cell_type": "code",
   "execution_count": 191,
   "id": "28a84500",
   "metadata": {},
   "outputs": [
    {
     "data": {
      "text/plain": [
       "<selenium.webdriver.remote.webelement.WebElement (session=\"50f2f37f587d5709c1aca2cc9104a276\", element=\"c8fff952-47de-43f8-8f4b-e0edb464c140\")>"
      ]
     },
     "execution_count": 191,
     "metadata": {},
     "output_type": "execute_result"
    }
   ],
   "source": [
    "search_items=driver.find_element(By.CLASS_NAME,\"_3704LK\")\n",
    "search_items"
   ]
  },
  {
   "cell_type": "code",
   "execution_count": 192,
   "id": "6291493a",
   "metadata": {},
   "outputs": [],
   "source": [
    "search_items.send_keys(\"sneakers\")"
   ]
  },
  {
   "cell_type": "code",
   "execution_count": 194,
   "id": "479a1b0b",
   "metadata": {},
   "outputs": [
    {
     "data": {
      "text/plain": [
       "<selenium.webdriver.remote.webelement.WebElement (session=\"50f2f37f587d5709c1aca2cc9104a276\", element=\"59cfcaac-c75c-4cc5-9b4f-be04934e650d\")>"
      ]
     },
     "execution_count": 194,
     "metadata": {},
     "output_type": "execute_result"
    }
   ],
   "source": [
    "search_between = driver.find_element(By.XPATH,\"/html/body/div[1]/div/div[1]/div[1]/div[2]/div[2]/form/div/button\")\n",
    "search_between"
   ]
  },
  {
   "cell_type": "code",
   "execution_count": 195,
   "id": "77a03b08",
   "metadata": {},
   "outputs": [],
   "source": [
    "search_between.click()"
   ]
  },
  {
   "cell_type": "code",
   "execution_count": 196,
   "id": "ebdf08b5",
   "metadata": {},
   "outputs": [
    {
     "data": {
      "text/plain": [
       "40"
      ]
     },
     "execution_count": 196,
     "metadata": {},
     "output_type": "execute_result"
    }
   ],
   "source": [
    "brand = driver.find_elements(By.XPATH,'//div[@class=\"_2WkVRV\"]')\n",
    "len(brand)"
   ]
  },
  {
   "cell_type": "code",
   "execution_count": 204,
   "id": "78e31e59",
   "metadata": {},
   "outputs": [
    {
     "data": {
      "text/plain": [
       "['URBANBOX',\n",
       " 'BRUTON',\n",
       " 'KWIK FIT',\n",
       " 'BRUTON',\n",
       " 'Absolute comfort',\n",
       " 'ASTEROID',\n",
       " 'Chevit',\n",
       " 'PUMA',\n",
       " 'Labbin',\n",
       " 'Magnolia',\n",
       " 'corsac',\n",
       " 'SFR',\n",
       " 'BRUTON',\n",
       " 'Robbie jones',\n",
       " 'Kraasa',\n",
       " 'Kzaara',\n",
       " 'HOTSTYLE',\n",
       " 'Noztile',\n",
       " 'Kraasa',\n",
       " 'Deals4you',\n",
       " 'SCATCHITE',\n",
       " 'BIRDE',\n",
       " 'D-SNEAKERZ',\n",
       " 'AMICO',\n",
       " 'PUMA',\n",
       " 'Magnolia',\n",
       " 'Rzisbo',\n",
       " 'BRUTON',\n",
       " 'BIRDE',\n",
       " 'Deals4you',\n",
       " 'PUMA',\n",
       " 'BRUTON',\n",
       " 'aadi',\n",
       " 'Magnolia',\n",
       " 'RapidBox',\n",
       " 'SPARX',\n",
       " 'Roadster',\n",
       " 'Layasa',\n",
       " 'Roadster',\n",
       " 'aadi']"
      ]
     },
     "execution_count": 204,
     "metadata": {},
     "output_type": "execute_result"
    }
   ],
   "source": [
    "product_brand = []\n",
    "\n",
    "for i in brand:\n",
    "    product_brand.append(i.text)\n",
    "    \n",
    "product_brand[:]"
   ]
  },
  {
   "cell_type": "code",
   "execution_count": 199,
   "id": "8f60b075",
   "metadata": {},
   "outputs": [
    {
     "data": {
      "text/plain": [
       "38"
      ]
     },
     "execution_count": 199,
     "metadata": {},
     "output_type": "execute_result"
    }
   ],
   "source": [
    "description = driver.find_elements(By.XPATH,'//a[@class=\"IRpwTa\"]')\n",
    "len(description)"
   ]
  },
  {
   "cell_type": "code",
   "execution_count": 202,
   "id": "ca27d39f",
   "metadata": {},
   "outputs": [
    {
     "data": {
      "text/plain": [
       "['Modern Trendy Sneakers Shoes Sneakers For Men',\n",
       " 'Kwik FIT casual sneaker shoes and partywear shoes Casua...',\n",
       " 'Modern Trendy Sneakers Shoes Sneakers For Men',\n",
       " 'Sneakers For Men',\n",
       " \"Original Luxury Branded Fashionable Men's Casual Walkin...\",\n",
       " 'Super Stylish & Trendy Combo Pack of 02 Pairs Sneakers ...',\n",
       " 'Puma Smash v2 L Sneakers For Men',\n",
       " 'Sneakers For Men',\n",
       " 'Sneakers For Men',\n",
       " 'STYLISH MENS BLACK SNEAKER Sneakers For Men',\n",
       " 'Sneakers For Men',\n",
       " 'Modern Trendy Sneakers Shoes Sneakers For Men',\n",
       " 'Casual Sneakers Canvas Shoes For Men Sneakers For Men',\n",
       " 'Shark-41 Sneakers For Men',\n",
       " 'Sneakers For Men',\n",
       " 'Sneakers For Men',\n",
       " 'Sneakers For Men',\n",
       " 'Casuals, Canvas, Partywear Sneakers For Men',\n",
       " 'Sneakers For Men',\n",
       " 'Sneakers Sneakers For Men',\n",
       " 'Stylish Comfortable Lightweight, Breathable Walking Sho...',\n",
       " \"Casual , Partywear Sneakers Shoes For Men's And Boys Wh...\",\n",
       " 'Sneakers For Men',\n",
       " 'x 1DER Rock V2 Sneakers For Men',\n",
       " 'Sneakers For Men',\n",
       " 'Sneakers For Men',\n",
       " 'Lightweight Pack Of 1 Trendy Sneakers Sneakers For Men',\n",
       " 'Stylish Comfortable Lightweight, Breathable Walking Sho...',\n",
       " 'Sneakers For Men',\n",
       " 'Puma Smash v2 L Sneakers For Men',\n",
       " 'Lattest Sneakers Shoe Sneakers For Men',\n",
       " 'Sneakers For Men',\n",
       " 'Sneakers For Men',\n",
       " 'Men White Sneakers Sneakers For Men',\n",
       " 'Sneakers For Men',\n",
       " 'Sneakers For Men',\n",
       " 'Sneakers For Men',\n",
       " 'Sneakers For Men']"
      ]
     },
     "execution_count": 202,
     "metadata": {},
     "output_type": "execute_result"
    }
   ],
   "source": [
    "product_description = []\n",
    "\n",
    "for i in description:\n",
    "    product_description.append(i.text)\n",
    "    \n",
    "product_description[:]"
   ]
  },
  {
   "cell_type": "code",
   "execution_count": 205,
   "id": "3a2b187c",
   "metadata": {},
   "outputs": [
    {
     "data": {
      "text/plain": [
       "45"
      ]
     },
     "execution_count": 205,
     "metadata": {},
     "output_type": "execute_result"
    }
   ],
   "source": [
    "price = driver.find_elements(By.XPATH,'//div[@class=\"_25b18c\"]')\n",
    "len(price)"
   ]
  },
  {
   "cell_type": "code",
   "execution_count": 206,
   "id": "5cd109fd",
   "metadata": {},
   "outputs": [
    {
     "data": {
      "text/plain": [
       "['₹219₹99978% off',\n",
       " '₹284₹1,29978% off',\n",
       " '₹397₹1,99980% off',\n",
       " '₹331₹1,29974% off',\n",
       " '₹249₹99975% off',\n",
       " '₹474₹1,99976% off',\n",
       " '₹687₹1,89863% off',\n",
       " '₹2,121₹3,49939% off',\n",
       " '₹499₹99950% off',\n",
       " '₹449₹99955% off',\n",
       " '₹499₹1,49966% off',\n",
       " '₹299₹99970% off',\n",
       " '₹599₹1,29953% off',\n",
       " '₹499₹99950% off',\n",
       " '₹479₹99952% off',\n",
       " '₹284₹99971% off',\n",
       " '₹268₹99873% off',\n",
       " '₹414₹1,99979% off',\n",
       " '₹479₹99952% off',\n",
       " '₹449₹1,49970% off',\n",
       " '₹399₹99960% off',\n",
       " '₹442₹99955% off',\n",
       " '₹299₹65954% off',\n",
       " '₹521₹99947% off',\n",
       " '₹2,952₹4,49934% off',\n",
       " '₹449₹99955% off',\n",
       " '₹549₹99945% off',\n",
       " '₹229₹59961% off',\n",
       " '₹442₹99955% off',\n",
       " '₹404₹99959% off',\n",
       " '₹2,057₹3,49941% off',\n",
       " '₹269₹1,29979% off',\n",
       " '₹425₹99957% off',\n",
       " '₹424₹99957% off',\n",
       " '₹630₹99936% off',\n",
       " '₹722₹84914% off',\n",
       " '₹1,119₹3,09963% off',\n",
       " '₹499₹99950% off',\n",
       " '₹2,999',\n",
       " '₹299₹99970% off',\n",
       " '₹72214% off',\n",
       " '₹54945% off',\n",
       " '₹41479% off',\n",
       " '₹63036% off',\n",
       " '₹21978% off']"
      ]
     },
     "execution_count": 206,
     "metadata": {},
     "output_type": "execute_result"
    }
   ],
   "source": [
    "product_price = []\n",
    "\n",
    "for i in price:\n",
    "    product_price.append(i.text)\n",
    "    \n",
    "product_price[:]"
   ]
  },
  {
   "cell_type": "code",
   "execution_count": 207,
   "id": "aadd9313",
   "metadata": {},
   "outputs": [
    {
     "data": {
      "text/plain": [
       "<selenium.webdriver.remote.webelement.WebElement (session=\"50f2f37f587d5709c1aca2cc9104a276\", element=\"1fdfd76e-04f9-4ca3-b91e-c4cc6fe541bb\")>"
      ]
     },
     "execution_count": 207,
     "metadata": {},
     "output_type": "execute_result"
    }
   ],
   "source": [
    "search_page = driver.find_element(By.XPATH,\"/html/body/div[1]/div/div[3]/div[1]/div[2]/div[12]/div/div/nav/a[11]\")\n",
    "search_page"
   ]
  },
  {
   "cell_type": "code",
   "execution_count": 208,
   "id": "15d1b825",
   "metadata": {},
   "outputs": [],
   "source": [
    "search_page.click()"
   ]
  },
  {
   "cell_type": "code",
   "execution_count": 209,
   "id": "c651ec87",
   "metadata": {},
   "outputs": [
    {
     "data": {
      "text/plain": [
       "40"
      ]
     },
     "execution_count": 209,
     "metadata": {},
     "output_type": "execute_result"
    }
   ],
   "source": [
    "brands = driver.find_elements(By.XPATH,'//div[@class=\"_2WkVRV\"]')\n",
    "len(brands)"
   ]
  },
  {
   "cell_type": "code",
   "execution_count": 211,
   "id": "0850563a",
   "metadata": {},
   "outputs": [
    {
     "data": {
      "text/plain": [
       "['Roadster',\n",
       " 'aadi',\n",
       " 'Numenzo',\n",
       " 'luxury fashion',\n",
       " 'Shoes Bank',\n",
       " 'ASTEROID',\n",
       " 'PUMA',\n",
       " 'Layasa',\n",
       " 'KILLER',\n",
       " 'luxury fashion',\n",
       " 'Kraasa',\n",
       " 'WHITE WALKERS',\n",
       " 'CLYMB',\n",
       " 'Robbie jones',\n",
       " 'India hub',\n",
       " 'Dizzler',\n",
       " 'HRX by Hrithik Roshan',\n",
       " 'Xtoon',\n",
       " 'BRUTON',\n",
       " 'SEGA',\n",
       " 'URBANBOX',\n",
       " 'ZF Klub',\n",
       " 'SEGA',\n",
       " 'Skechers',\n",
       " 'Robbie jones',\n",
       " 'PUMA',\n",
       " 'KNIGHT WALKERS',\n",
       " 'SHOELAMB',\n",
       " 'VENDOZ',\n",
       " 'WHITE WALKERS',\n",
       " 'PROVOGUE',\n",
       " 'T-ROCK',\n",
       " 'Stinson',\n",
       " 'PUMA',\n",
       " 'Eiffel',\n",
       " 'Shozie',\n",
       " 'TR',\n",
       " 'STRYDER',\n",
       " 'LE GREEM',\n",
       " 'KNIGHT WALKERS']"
      ]
     },
     "execution_count": 211,
     "metadata": {},
     "output_type": "execute_result"
    }
   ],
   "source": [
    "product_brands = []\n",
    "\n",
    "for i in brands:\n",
    "    product_brands.append(i.text)\n",
    "    \n",
    "product_brands[:]"
   ]
  },
  {
   "cell_type": "code",
   "execution_count": 212,
   "id": "22fdd8fe",
   "metadata": {},
   "outputs": [
    {
     "data": {
      "text/plain": [
       "33"
      ]
     },
     "execution_count": 212,
     "metadata": {},
     "output_type": "execute_result"
    }
   ],
   "source": [
    "descriptions = driver.find_elements(By.XPATH,'//a[@class=\"IRpwTa\"]')\n",
    "len(descriptions)"
   ]
  },
  {
   "cell_type": "code",
   "execution_count": 213,
   "id": "751fc49e",
   "metadata": {},
   "outputs": [
    {
     "data": {
      "text/plain": [
       "['Sneakers For Men',\n",
       " 'Sneakers For Men',\n",
       " 'Sneakers For Men',\n",
       " 'Luxury Fashionable casual sneaker shoes Sneakers For Me...',\n",
       " \"White Sneaker For Men's/Boy's Sneakers For Men\",\n",
       " 'Original Luxury Branded Black Fancy Casual Walking Part...',\n",
       " 'Brave Sneakers For Men',\n",
       " 'Stylish Casual Sports Shoe Sneakers For Women',\n",
       " 'Sneakers For Men',\n",
       " 'Luxury Fashionable casual sneaker shoes Sneakers For Me...',\n",
       " 'Series 7 Sneakers For Men',\n",
       " 'Stylish & Trending Outdoor Walking Comfortable Sneakers...',\n",
       " 'Sneakers For Men',\n",
       " 'Casual Sneakers White Shoes For Men Sneakers For Men',\n",
       " 'Sneakers For Men',\n",
       " 'Sneakers For Men',\n",
       " 'Sneakers For Men',\n",
       " 'Sneaker Sneakers For Men',\n",
       " 'Sneakers For Men',\n",
       " '6616-ZF-BLACK-08 Sneakers For Men',\n",
       " 'Running shoes for mens Sneakers For Men',\n",
       " 'TRACK Sneakers For Men',\n",
       " 'Casual Sneakers Shoes For Men And Boys Sneakers For Men',\n",
       " 'x 1DER Rock V2 Sneakers For Men',\n",
       " 'Sneakers For Men',\n",
       " 'Sneakers For Men',\n",
       " 'Girls Stylish Casual Sports Shoe Sneakers For Women',\n",
       " 'Stylish & Trending Outdoor Walking Comfortable Sneakers...',\n",
       " 'Sneakers For Men',\n",
       " 'Orkid Wns Sneakers For Women',\n",
       " 'Stylish Walking Partywear Sneakers Casual Shoes Sneaker...',\n",
       " 'Comfortable & Ultra Light Weight Sneaker Sneakers For M...',\n",
       " 'SS1100 Sneakers For Men']"
      ]
     },
     "execution_count": 213,
     "metadata": {},
     "output_type": "execute_result"
    }
   ],
   "source": [
    "product_descriptions = []\n",
    "\n",
    "for i in descriptions:\n",
    "    product_descriptions.append(i.text)\n",
    "    \n",
    "product_descriptions[:]"
   ]
  },
  {
   "cell_type": "code",
   "execution_count": 214,
   "id": "b893bf83",
   "metadata": {},
   "outputs": [
    {
     "data": {
      "text/plain": [
       "45"
      ]
     },
     "execution_count": 214,
     "metadata": {},
     "output_type": "execute_result"
    }
   ],
   "source": [
    "prices = driver.find_elements(By.XPATH,'//div[@class=\"_25b18c\"]')\n",
    "len(prices)"
   ]
  },
  {
   "cell_type": "code",
   "execution_count": 215,
   "id": "3aa438ab",
   "metadata": {},
   "outputs": [
    {
     "data": {
      "text/plain": [
       "['₹2,999',\n",
       " '₹299₹99970% off',\n",
       " '₹539₹2,99982% off',\n",
       " '₹399₹1,29969% off',\n",
       " '₹297₹99970% off',\n",
       " '₹474₹99952% off',\n",
       " '₹1,769₹3,29946% off',\n",
       " '₹479₹99952% off',\n",
       " '₹986₹2,69963% off',\n",
       " '₹379₹2,99987% off',\n",
       " '₹479₹99952% off',\n",
       " '₹599₹1,19950% off',\n",
       " '₹579₹1,49961% off',\n",
       " '₹499₹99950% off',\n",
       " '₹499₹1,99975% off',\n",
       " '₹449₹71937% off',\n",
       " '₹1,499₹3,79960% off',\n",
       " '₹499₹99950% off',\n",
       " '₹284₹1,29978% off',\n",
       " '₹611₹94935% off',\n",
       " '₹179₹49964% off',\n",
       " '₹349₹99965% off',\n",
       " '₹611₹99838% off',\n",
       " '₹2,826₹4,79941% off',\n",
       " '₹499₹99950% off',\n",
       " '₹3,007₹4,49933% off',\n",
       " '₹648₹1,49956% off',\n",
       " '₹719₹79910% off',\n",
       " '₹499₹99950% off',\n",
       " '₹599₹1,19850% off',\n",
       " '₹756₹1,99962% off',\n",
       " '₹399₹99960% off',\n",
       " '₹249₹49950% off',\n",
       " '₹6,999',\n",
       " '₹448₹99955% off',\n",
       " '₹629₹99937% off',\n",
       " '₹399₹1,49973% off',\n",
       " '₹198₹99980% off',\n",
       " '₹499₹99950% off',\n",
       " '₹699₹1,99965% off',\n",
       " '₹72214% off',\n",
       " '₹54945% off',\n",
       " '₹41479% off',\n",
       " '₹63036% off',\n",
       " '₹21978% off']"
      ]
     },
     "execution_count": 215,
     "metadata": {},
     "output_type": "execute_result"
    }
   ],
   "source": [
    "product_prices = []\n",
    "\n",
    "for i in prices:\n",
    "    product_prices.append(i.text)\n",
    "    \n",
    "product_prices[:]"
   ]
  },
  {
   "cell_type": "code",
   "execution_count": 216,
   "id": "b362fad9",
   "metadata": {},
   "outputs": [
    {
     "data": {
      "text/plain": [
       "<selenium.webdriver.remote.webelement.WebElement (session=\"50f2f37f587d5709c1aca2cc9104a276\", element=\"1fdfd76e-04f9-4ca3-b91e-c4cc6fe541bb\")>"
      ]
     },
     "execution_count": 216,
     "metadata": {},
     "output_type": "execute_result"
    }
   ],
   "source": [
    "search_page = driver.find_element(By.XPATH,\"/html/body/div[1]/div/div[3]/div[1]/div[2]/div[12]/div/div/nav/a[12]\")\n",
    "search_page"
   ]
  },
  {
   "cell_type": "code",
   "execution_count": 217,
   "id": "e22780f0",
   "metadata": {},
   "outputs": [],
   "source": [
    "search_page.click()"
   ]
  },
  {
   "cell_type": "code",
   "execution_count": 219,
   "id": "7f821283",
   "metadata": {},
   "outputs": [
    {
     "data": {
      "text/plain": [
       "40"
      ]
     },
     "execution_count": 219,
     "metadata": {},
     "output_type": "execute_result"
    }
   ],
   "source": [
    "brandss = driver.find_elements(By.XPATH,'//div[@class=\"_2WkVRV\"]')\n",
    "len(brandss)"
   ]
  },
  {
   "cell_type": "code",
   "execution_count": 225,
   "id": "c65b2d01",
   "metadata": {},
   "outputs": [
    {
     "data": {
      "text/plain": [
       "['Kzaara',\n",
       " 'Deals4you',\n",
       " 'Kzaara',\n",
       " 'BRUTON',\n",
       " 'Bata',\n",
       " 'Strollin',\n",
       " 'HRX by Hrithik Roshan',\n",
       " 'ASIAN',\n",
       " 'T-ROCK',\n",
       " 'aadi',\n",
       " 'RapidBox',\n",
       " 'ROCKFIELD',\n",
       " 'PUMA',\n",
       " 'BIRDE',\n",
       " 'PUMA',\n",
       " 'T-ROCK',\n",
       " 'PROVOGUE',\n",
       " 'PUMA',\n",
       " 'Chevit',\n",
       " 'Detok']"
      ]
     },
     "execution_count": 225,
     "metadata": {},
     "output_type": "execute_result"
    }
   ],
   "source": [
    "product_brandss = []\n",
    "\n",
    "for i in brandss:\n",
    "    product_brandss.append(i.text)\n",
    "    \n",
    "product_brandss[:20]"
   ]
  },
  {
   "cell_type": "code",
   "execution_count": 221,
   "id": "f2b41836",
   "metadata": {},
   "outputs": [
    {
     "data": {
      "text/plain": [
       "37"
      ]
     },
     "execution_count": 221,
     "metadata": {},
     "output_type": "execute_result"
    }
   ],
   "source": [
    "descriptionss = driver.find_elements(By.XPATH,'//a[@class=\"IRpwTa\"]')\n",
    "len(descriptionss)"
   ]
  },
  {
   "cell_type": "code",
   "execution_count": 226,
   "id": "94a42ea9",
   "metadata": {},
   "outputs": [
    {
     "data": {
      "text/plain": [
       "['Kzaara Sneakers Casual Canvas shoes | Branded Stylish O...',\n",
       " 'Sneakers For Women',\n",
       " 'Sneakers For Men',\n",
       " 'CUBIC_1 Sneakers For Men',\n",
       " 'Sneakers For Men',\n",
       " 'Sneakers For Men',\n",
       " 'Sneakers For Men',\n",
       " 'Sneakers For Men',\n",
       " 'Stylish White Casual Walking Sneakers Shoes For Men and...',\n",
       " 'Mesh | Ultralightweight | Comfortable | Breathable Walk...',\n",
       " 'Sneakers For Men',\n",
       " 'R78 Sneakers For Men',\n",
       " 'Stylish Comfortable Lightweight, Breathable Casual Walk...',\n",
       " 'Skye Wedge Sneakers For Women',\n",
       " 'Sneakers For Women',\n",
       " 'Sneakers For Men',\n",
       " 'one8 V2 Sneakers For Men',\n",
       " \"Men's Combo Pack of 02 Shoes for Men Casual Sneakers Ou...\",\n",
       " 'Sneakers For Men',\n",
       " 'Sneakers For Men']"
      ]
     },
     "execution_count": 226,
     "metadata": {},
     "output_type": "execute_result"
    }
   ],
   "source": [
    "product_descriptionss = []\n",
    "\n",
    "for i in descriptionss:\n",
    "    product_descriptionss.append(i.text)\n",
    "    \n",
    "product_descriptionss[:20]"
   ]
  },
  {
   "cell_type": "code",
   "execution_count": 223,
   "id": "4fa292d8",
   "metadata": {},
   "outputs": [
    {
     "data": {
      "text/plain": [
       "45"
      ]
     },
     "execution_count": 223,
     "metadata": {},
     "output_type": "execute_result"
    }
   ],
   "source": [
    "pricess = driver.find_elements(By.XPATH,'//div[@class=\"_25b18c\"]')\n",
    "len(pricess)"
   ]
  },
  {
   "cell_type": "code",
   "execution_count": 227,
   "id": "2c2f77a0",
   "metadata": {},
   "outputs": [
    {
     "data": {
      "text/plain": [
       "['₹244₹99975% off',\n",
       " '₹479₹1,49968% off',\n",
       " '₹284₹99971% off',\n",
       " '₹299₹1,29976% off',\n",
       " '₹719₹79910% off',\n",
       " '₹474₹1,99976% off',\n",
       " '₹1,624₹3,99959% off',\n",
       " '₹1,159₹1,99942% off',\n",
       " '₹498₹99950% off',\n",
       " '₹999₹1,99950% off',\n",
       " '₹650₹99934% off',\n",
       " '₹299₹99970% off',\n",
       " '₹2,339₹3,99941% off',\n",
       " '₹442₹99955% off',\n",
       " '₹3,119₹5,99948% off',\n",
       " '₹403₹99959% off',\n",
       " '₹649₹1,79963% off',\n",
       " '₹1,979₹3,29940% off',\n",
       " '₹649₹1,09940% off',\n",
       " '₹399₹99960% off']"
      ]
     },
     "execution_count": 227,
     "metadata": {},
     "output_type": "execute_result"
    }
   ],
   "source": [
    "product_pricess = []\n",
    "\n",
    "for i in pricess:\n",
    "    product_pricess.append(i.text)\n",
    "    \n",
    "product_pricess[:20]"
   ]
  },
  {
   "cell_type": "code",
   "execution_count": null,
   "id": "0947ce6a",
   "metadata": {},
   "outputs": [],
   "source": []
  },
  {
   "cell_type": "code",
   "execution_count": null,
   "id": "6cbcadcd",
   "metadata": {},
   "outputs": [],
   "source": [
    "# Q7: Go to the link - https://www.myntra.com/shoes\n",
    "Set second Price filter and Color filter to “Black”, as shown in the below image.\n",
    "And then scrape First 100 shoes data you get. The data should include “Brand” of the shoes , Short Shoe\n",
    "description, price of the shoe as shown in the below image."
   ]
  },
  {
   "cell_type": "code",
   "execution_count": 228,
   "id": "49650ab6",
   "metadata": {},
   "outputs": [],
   "source": [
    "import selenium\n",
    "from selenium import webdriver\n",
    "import pandas as pd\n",
    "import warnings\n",
    "warnings.filterwarnings(\"ignore\")"
   ]
  },
  {
   "cell_type": "code",
   "execution_count": 235,
   "id": "448794d2",
   "metadata": {},
   "outputs": [],
   "source": [
    "driver = webdriver.Chrome('chromedriver.exe')"
   ]
  },
  {
   "cell_type": "code",
   "execution_count": 236,
   "id": "2dcd312d",
   "metadata": {},
   "outputs": [
    {
     "ename": "WebDriverException",
     "evalue": "Message: unknown error: cannot determine loading status\nfrom unknown error: unexpected command response\n  (Session info: chrome=103.0.5060.114)\nStacktrace:\nBacktrace:\n\tOrdinal0 [0x00256463+2188387]\n\tOrdinal0 [0x001EE461+1762401]\n\tOrdinal0 [0x00103D78+802168]\n\tOrdinal0 [0x000F7210+750096]\n\tOrdinal0 [0x000F675A+747354]\n\tOrdinal0 [0x000F5D3F+744767]\n\tOrdinal0 [0x000F4C28+740392]\n\tOrdinal0 [0x000F5228+741928]\n\tOrdinal0 [0x000FF153+782675]\n\tOrdinal0 [0x00109FBB+827323]\n\tOrdinal0 [0x0010D310+840464]\n\tOrdinal0 [0x000F54F6+742646]\n\tOrdinal0 [0x00109BF3+826355]\n\tOrdinal0 [0x0015CF6D+1167213]\n\tOrdinal0 [0x0014C5F6+1099254]\n\tOrdinal0 [0x00126BE0+945120]\n\tOrdinal0 [0x00127AD6+948950]\n\tGetHandleVerifier [0x004F71F2+2712546]\n\tGetHandleVerifier [0x004E886D+2652765]\n\tGetHandleVerifier [0x002E002A+520730]\n\tGetHandleVerifier [0x002DEE06+516086]\n\tOrdinal0 [0x001F468B+1787531]\n\tOrdinal0 [0x001F8E88+1805960]\n\tOrdinal0 [0x001F8F75+1806197]\n\tOrdinal0 [0x00201DF1+1842673]\n\tBaseThreadInitThunk [0x76E1FA29+25]\n\tRtlGetAppContainerNamedObjectPath [0x77207A9E+286]\n\tRtlGetAppContainerNamedObjectPath [0x77207A6E+238]\n\t(No symbol) [0x00000000]\n",
     "output_type": "error",
     "traceback": [
      "\u001b[1;31m---------------------------------------------------------------------------\u001b[0m",
      "\u001b[1;31mWebDriverException\u001b[0m                        Traceback (most recent call last)",
      "Input \u001b[1;32mIn [236]\u001b[0m, in \u001b[0;36m<cell line: 2>\u001b[1;34m()\u001b[0m\n\u001b[0;32m      1\u001b[0m url \u001b[38;5;241m=\u001b[39m \u001b[38;5;124m'\u001b[39m\u001b[38;5;124mhttps://www.myntra.com/shoes\u001b[39m\u001b[38;5;124m'\u001b[39m\n\u001b[1;32m----> 2\u001b[0m \u001b[43mdriver\u001b[49m\u001b[38;5;241;43m.\u001b[39;49m\u001b[43mget\u001b[49m\u001b[43m(\u001b[49m\u001b[43murl\u001b[49m\u001b[43m)\u001b[49m\n",
      "File \u001b[1;32m~\\anaconda3\\lib\\site-packages\\selenium\\webdriver\\remote\\webdriver.py:447\u001b[0m, in \u001b[0;36mWebDriver.get\u001b[1;34m(self, url)\u001b[0m\n\u001b[0;32m    443\u001b[0m \u001b[38;5;28;01mdef\u001b[39;00m \u001b[38;5;21mget\u001b[39m(\u001b[38;5;28mself\u001b[39m, url: \u001b[38;5;28mstr\u001b[39m) \u001b[38;5;241m-\u001b[39m\u001b[38;5;241m>\u001b[39m \u001b[38;5;28;01mNone\u001b[39;00m:\n\u001b[0;32m    444\u001b[0m     \u001b[38;5;124;03m\"\"\"\u001b[39;00m\n\u001b[0;32m    445\u001b[0m \u001b[38;5;124;03m    Loads a web page in the current browser session.\u001b[39;00m\n\u001b[0;32m    446\u001b[0m \u001b[38;5;124;03m    \"\"\"\u001b[39;00m\n\u001b[1;32m--> 447\u001b[0m     \u001b[38;5;28;43mself\u001b[39;49m\u001b[38;5;241;43m.\u001b[39;49m\u001b[43mexecute\u001b[49m\u001b[43m(\u001b[49m\u001b[43mCommand\u001b[49m\u001b[38;5;241;43m.\u001b[39;49m\u001b[43mGET\u001b[49m\u001b[43m,\u001b[49m\u001b[43m \u001b[49m\u001b[43m{\u001b[49m\u001b[38;5;124;43m'\u001b[39;49m\u001b[38;5;124;43murl\u001b[39;49m\u001b[38;5;124;43m'\u001b[39;49m\u001b[43m:\u001b[49m\u001b[43m \u001b[49m\u001b[43murl\u001b[49m\u001b[43m}\u001b[49m\u001b[43m)\u001b[49m\n",
      "File \u001b[1;32m~\\anaconda3\\lib\\site-packages\\selenium\\webdriver\\remote\\webdriver.py:435\u001b[0m, in \u001b[0;36mWebDriver.execute\u001b[1;34m(self, driver_command, params)\u001b[0m\n\u001b[0;32m    433\u001b[0m response \u001b[38;5;241m=\u001b[39m \u001b[38;5;28mself\u001b[39m\u001b[38;5;241m.\u001b[39mcommand_executor\u001b[38;5;241m.\u001b[39mexecute(driver_command, params)\n\u001b[0;32m    434\u001b[0m \u001b[38;5;28;01mif\u001b[39;00m response:\n\u001b[1;32m--> 435\u001b[0m     \u001b[38;5;28;43mself\u001b[39;49m\u001b[38;5;241;43m.\u001b[39;49m\u001b[43merror_handler\u001b[49m\u001b[38;5;241;43m.\u001b[39;49m\u001b[43mcheck_response\u001b[49m\u001b[43m(\u001b[49m\u001b[43mresponse\u001b[49m\u001b[43m)\u001b[49m\n\u001b[0;32m    436\u001b[0m     response[\u001b[38;5;124m'\u001b[39m\u001b[38;5;124mvalue\u001b[39m\u001b[38;5;124m'\u001b[39m] \u001b[38;5;241m=\u001b[39m \u001b[38;5;28mself\u001b[39m\u001b[38;5;241m.\u001b[39m_unwrap_value(\n\u001b[0;32m    437\u001b[0m         response\u001b[38;5;241m.\u001b[39mget(\u001b[38;5;124m'\u001b[39m\u001b[38;5;124mvalue\u001b[39m\u001b[38;5;124m'\u001b[39m, \u001b[38;5;28;01mNone\u001b[39;00m))\n\u001b[0;32m    438\u001b[0m     \u001b[38;5;28;01mreturn\u001b[39;00m response\n",
      "File \u001b[1;32m~\\anaconda3\\lib\\site-packages\\selenium\\webdriver\\remote\\errorhandler.py:247\u001b[0m, in \u001b[0;36mErrorHandler.check_response\u001b[1;34m(self, response)\u001b[0m\n\u001b[0;32m    245\u001b[0m         alert_text \u001b[38;5;241m=\u001b[39m value[\u001b[38;5;124m'\u001b[39m\u001b[38;5;124malert\u001b[39m\u001b[38;5;124m'\u001b[39m]\u001b[38;5;241m.\u001b[39mget(\u001b[38;5;124m'\u001b[39m\u001b[38;5;124mtext\u001b[39m\u001b[38;5;124m'\u001b[39m)\n\u001b[0;32m    246\u001b[0m     \u001b[38;5;28;01mraise\u001b[39;00m exception_class(message, screen, stacktrace, alert_text)  \u001b[38;5;66;03m# type: ignore[call-arg]  # mypy is not smart enough here\u001b[39;00m\n\u001b[1;32m--> 247\u001b[0m \u001b[38;5;28;01mraise\u001b[39;00m exception_class(message, screen, stacktrace)\n",
      "\u001b[1;31mWebDriverException\u001b[0m: Message: unknown error: cannot determine loading status\nfrom unknown error: unexpected command response\n  (Session info: chrome=103.0.5060.114)\nStacktrace:\nBacktrace:\n\tOrdinal0 [0x00256463+2188387]\n\tOrdinal0 [0x001EE461+1762401]\n\tOrdinal0 [0x00103D78+802168]\n\tOrdinal0 [0x000F7210+750096]\n\tOrdinal0 [0x000F675A+747354]\n\tOrdinal0 [0x000F5D3F+744767]\n\tOrdinal0 [0x000F4C28+740392]\n\tOrdinal0 [0x000F5228+741928]\n\tOrdinal0 [0x000FF153+782675]\n\tOrdinal0 [0x00109FBB+827323]\n\tOrdinal0 [0x0010D310+840464]\n\tOrdinal0 [0x000F54F6+742646]\n\tOrdinal0 [0x00109BF3+826355]\n\tOrdinal0 [0x0015CF6D+1167213]\n\tOrdinal0 [0x0014C5F6+1099254]\n\tOrdinal0 [0x00126BE0+945120]\n\tOrdinal0 [0x00127AD6+948950]\n\tGetHandleVerifier [0x004F71F2+2712546]\n\tGetHandleVerifier [0x004E886D+2652765]\n\tGetHandleVerifier [0x002E002A+520730]\n\tGetHandleVerifier [0x002DEE06+516086]\n\tOrdinal0 [0x001F468B+1787531]\n\tOrdinal0 [0x001F8E88+1805960]\n\tOrdinal0 [0x001F8F75+1806197]\n\tOrdinal0 [0x00201DF1+1842673]\n\tBaseThreadInitThunk [0x76E1FA29+25]\n\tRtlGetAppContainerNamedObjectPath [0x77207A9E+286]\n\tRtlGetAppContainerNamedObjectPath [0x77207A6E+238]\n\t(No symbol) [0x00000000]\n"
     ]
    }
   ],
   "source": [
    "url = 'https://www.myntra.com/shoes'\n",
    "driver.get(url)\n",
    "### Getting error below, but the webdriver is working"
   ]
  },
  {
   "cell_type": "code",
   "execution_count": null,
   "id": "22d79dac",
   "metadata": {},
   "outputs": [],
   "source": [
    "price_check = driver.find_element(By.XPATH,\"/html/body/div[1]/div[3]/div[2]/section[1]/div[2]/div[6]/div[2]/div[2]/label/p/span[1]\")\n",
    "price_check"
   ]
  },
  {
   "cell_type": "code",
   "execution_count": null,
   "id": "18b6dce9",
   "metadata": {},
   "outputs": [],
   "source": []
  },
  {
   "cell_type": "code",
   "execution_count": null,
   "id": "72a03ef9",
   "metadata": {},
   "outputs": [],
   "source": []
  },
  {
   "cell_type": "code",
   "execution_count": null,
   "id": "a12d7f7f",
   "metadata": {},
   "outputs": [],
   "source": []
  },
  {
   "cell_type": "code",
   "execution_count": null,
   "id": "3923bdd6",
   "metadata": {},
   "outputs": [],
   "source": []
  },
  {
   "cell_type": "code",
   "execution_count": null,
   "id": "b084e974",
   "metadata": {},
   "outputs": [],
   "source": []
  },
  {
   "cell_type": "code",
   "execution_count": null,
   "id": "5a9fd179",
   "metadata": {},
   "outputs": [],
   "source": []
  },
  {
   "cell_type": "code",
   "execution_count": null,
   "id": "aa2771fc",
   "metadata": {},
   "outputs": [],
   "source": []
  },
  {
   "cell_type": "code",
   "execution_count": null,
   "id": "aea8d81c",
   "metadata": {},
   "outputs": [],
   "source": [
    "# 8th Question"
   ]
  },
  {
   "cell_type": "code",
   "execution_count": 246,
   "id": "33ae80ef",
   "metadata": {},
   "outputs": [],
   "source": [
    "import selenium\n",
    "from selenium import webdriver\n",
    "import pandas as pd\n",
    "import warnings\n",
    "warnings.filterwarnings(\"ignore\")"
   ]
  },
  {
   "cell_type": "code",
   "execution_count": 247,
   "id": "a432a1e6",
   "metadata": {},
   "outputs": [],
   "source": [
    "driver = webdriver.Chrome('chromedriver.exe')"
   ]
  },
  {
   "cell_type": "code",
   "execution_count": 248,
   "id": "c09afa4b",
   "metadata": {},
   "outputs": [],
   "source": [
    "url = 'https://www.amazon.in/'\n",
    "driver.get(url)"
   ]
  },
  {
   "cell_type": "code",
   "execution_count": 268,
   "id": "f9b19ed0",
   "metadata": {},
   "outputs": [
    {
     "data": {
      "text/plain": [
       "<selenium.webdriver.remote.webelement.WebElement (session=\"82eb3023140e3b673d75790b1a5ac2b2\", element=\"8de0c1d2-f3c8-4efd-8412-8a4f764388fe\")>"
      ]
     },
     "execution_count": 268,
     "metadata": {},
     "output_type": "execute_result"
    }
   ],
   "source": [
    "search_items=driver.find_element(By.CLASS_NAME,\"nav-fill\")\n",
    "search_items"
   ]
  },
  {
   "cell_type": "code",
   "execution_count": 269,
   "id": "cff596c0",
   "metadata": {},
   "outputs": [
    {
     "ename": "ElementNotInteractableException",
     "evalue": "Message: element not interactable\n  (Session info: chrome=103.0.5060.114)\nStacktrace:\nBacktrace:\n\tOrdinal0 [0x00256463+2188387]\n\tOrdinal0 [0x001EE461+1762401]\n\tOrdinal0 [0x00103C40+801856]\n\tOrdinal0 [0x0012CF63+970595]\n\tOrdinal0 [0x0012C63E+968254]\n\tOrdinal0 [0x0014C7DC+1099740]\n\tOrdinal0 [0x00127FF4+950260]\n\tOrdinal0 [0x0014C9F4+1100276]\n\tOrdinal0 [0x0015CC22+1166370]\n\tOrdinal0 [0x0014C5F6+1099254]\n\tOrdinal0 [0x00126BE0+945120]\n\tOrdinal0 [0x00127AD6+948950]\n\tGetHandleVerifier [0x004F71F2+2712546]\n\tGetHandleVerifier [0x004E886D+2652765]\n\tGetHandleVerifier [0x002E002A+520730]\n\tGetHandleVerifier [0x002DEE06+516086]\n\tOrdinal0 [0x001F468B+1787531]\n\tOrdinal0 [0x001F8E88+1805960]\n\tOrdinal0 [0x001F8F75+1806197]\n\tOrdinal0 [0x00201DF1+1842673]\n\tBaseThreadInitThunk [0x76E1FA29+25]\n\tRtlGetAppContainerNamedObjectPath [0x77207A9E+286]\n\tRtlGetAppContainerNamedObjectPath [0x77207A6E+238]\n\t(No symbol) [0x00000000]\n",
     "output_type": "error",
     "traceback": [
      "\u001b[1;31m---------------------------------------------------------------------------\u001b[0m",
      "\u001b[1;31mElementNotInteractableException\u001b[0m           Traceback (most recent call last)",
      "Input \u001b[1;32mIn [269]\u001b[0m, in \u001b[0;36m<cell line: 1>\u001b[1;34m()\u001b[0m\n\u001b[1;32m----> 1\u001b[0m \u001b[43msearch_items\u001b[49m\u001b[38;5;241;43m.\u001b[39;49m\u001b[43msend_keys\u001b[49m\u001b[43m(\u001b[49m\u001b[38;5;124;43m\"\u001b[39;49m\u001b[38;5;124;43mlaptop\u001b[39;49m\u001b[38;5;124;43m\"\u001b[39;49m\u001b[43m)\u001b[49m\n",
      "File \u001b[1;32m~\\anaconda3\\lib\\site-packages\\selenium\\webdriver\\remote\\webelement.py:223\u001b[0m, in \u001b[0;36mWebElement.send_keys\u001b[1;34m(self, *value)\u001b[0m\n\u001b[0;32m    220\u001b[0m             remote_files\u001b[38;5;241m.\u001b[39mappend(\u001b[38;5;28mself\u001b[39m\u001b[38;5;241m.\u001b[39m_upload(file))\n\u001b[0;32m    221\u001b[0m         value \u001b[38;5;241m=\u001b[39m \u001b[38;5;124m'\u001b[39m\u001b[38;5;130;01m\\n\u001b[39;00m\u001b[38;5;124m'\u001b[39m\u001b[38;5;241m.\u001b[39mjoin(remote_files)\n\u001b[1;32m--> 223\u001b[0m \u001b[38;5;28;43mself\u001b[39;49m\u001b[38;5;241;43m.\u001b[39;49m\u001b[43m_execute\u001b[49m\u001b[43m(\u001b[49m\u001b[43mCommand\u001b[49m\u001b[38;5;241;43m.\u001b[39;49m\u001b[43mSEND_KEYS_TO_ELEMENT\u001b[49m\u001b[43m,\u001b[49m\n\u001b[0;32m    224\u001b[0m \u001b[43m              \u001b[49m\u001b[43m{\u001b[49m\u001b[38;5;124;43m'\u001b[39;49m\u001b[38;5;124;43mtext\u001b[39;49m\u001b[38;5;124;43m'\u001b[39;49m\u001b[43m:\u001b[49m\u001b[43m \u001b[49m\u001b[38;5;124;43m\"\u001b[39;49m\u001b[38;5;124;43m\"\u001b[39;49m\u001b[38;5;241;43m.\u001b[39;49m\u001b[43mjoin\u001b[49m\u001b[43m(\u001b[49m\u001b[43mkeys_to_typing\u001b[49m\u001b[43m(\u001b[49m\u001b[43mvalue\u001b[49m\u001b[43m)\u001b[49m\u001b[43m)\u001b[49m\u001b[43m,\u001b[49m\n\u001b[0;32m    225\u001b[0m \u001b[43m               \u001b[49m\u001b[38;5;124;43m'\u001b[39;49m\u001b[38;5;124;43mvalue\u001b[39;49m\u001b[38;5;124;43m'\u001b[39;49m\u001b[43m:\u001b[49m\u001b[43m \u001b[49m\u001b[43mkeys_to_typing\u001b[49m\u001b[43m(\u001b[49m\u001b[43mvalue\u001b[49m\u001b[43m)\u001b[49m\u001b[43m}\u001b[49m\u001b[43m)\u001b[49m\n",
      "File \u001b[1;32m~\\anaconda3\\lib\\site-packages\\selenium\\webdriver\\remote\\webelement.py:396\u001b[0m, in \u001b[0;36mWebElement._execute\u001b[1;34m(self, command, params)\u001b[0m\n\u001b[0;32m    394\u001b[0m     params \u001b[38;5;241m=\u001b[39m {}\n\u001b[0;32m    395\u001b[0m params[\u001b[38;5;124m'\u001b[39m\u001b[38;5;124mid\u001b[39m\u001b[38;5;124m'\u001b[39m] \u001b[38;5;241m=\u001b[39m \u001b[38;5;28mself\u001b[39m\u001b[38;5;241m.\u001b[39m_id\n\u001b[1;32m--> 396\u001b[0m \u001b[38;5;28;01mreturn\u001b[39;00m \u001b[38;5;28;43mself\u001b[39;49m\u001b[38;5;241;43m.\u001b[39;49m\u001b[43m_parent\u001b[49m\u001b[38;5;241;43m.\u001b[39;49m\u001b[43mexecute\u001b[49m\u001b[43m(\u001b[49m\u001b[43mcommand\u001b[49m\u001b[43m,\u001b[49m\u001b[43m \u001b[49m\u001b[43mparams\u001b[49m\u001b[43m)\u001b[49m\n",
      "File \u001b[1;32m~\\anaconda3\\lib\\site-packages\\selenium\\webdriver\\remote\\webdriver.py:435\u001b[0m, in \u001b[0;36mWebDriver.execute\u001b[1;34m(self, driver_command, params)\u001b[0m\n\u001b[0;32m    433\u001b[0m response \u001b[38;5;241m=\u001b[39m \u001b[38;5;28mself\u001b[39m\u001b[38;5;241m.\u001b[39mcommand_executor\u001b[38;5;241m.\u001b[39mexecute(driver_command, params)\n\u001b[0;32m    434\u001b[0m \u001b[38;5;28;01mif\u001b[39;00m response:\n\u001b[1;32m--> 435\u001b[0m     \u001b[38;5;28;43mself\u001b[39;49m\u001b[38;5;241;43m.\u001b[39;49m\u001b[43merror_handler\u001b[49m\u001b[38;5;241;43m.\u001b[39;49m\u001b[43mcheck_response\u001b[49m\u001b[43m(\u001b[49m\u001b[43mresponse\u001b[49m\u001b[43m)\u001b[49m\n\u001b[0;32m    436\u001b[0m     response[\u001b[38;5;124m'\u001b[39m\u001b[38;5;124mvalue\u001b[39m\u001b[38;5;124m'\u001b[39m] \u001b[38;5;241m=\u001b[39m \u001b[38;5;28mself\u001b[39m\u001b[38;5;241m.\u001b[39m_unwrap_value(\n\u001b[0;32m    437\u001b[0m         response\u001b[38;5;241m.\u001b[39mget(\u001b[38;5;124m'\u001b[39m\u001b[38;5;124mvalue\u001b[39m\u001b[38;5;124m'\u001b[39m, \u001b[38;5;28;01mNone\u001b[39;00m))\n\u001b[0;32m    438\u001b[0m     \u001b[38;5;28;01mreturn\u001b[39;00m response\n",
      "File \u001b[1;32m~\\anaconda3\\lib\\site-packages\\selenium\\webdriver\\remote\\errorhandler.py:247\u001b[0m, in \u001b[0;36mErrorHandler.check_response\u001b[1;34m(self, response)\u001b[0m\n\u001b[0;32m    245\u001b[0m         alert_text \u001b[38;5;241m=\u001b[39m value[\u001b[38;5;124m'\u001b[39m\u001b[38;5;124malert\u001b[39m\u001b[38;5;124m'\u001b[39m]\u001b[38;5;241m.\u001b[39mget(\u001b[38;5;124m'\u001b[39m\u001b[38;5;124mtext\u001b[39m\u001b[38;5;124m'\u001b[39m)\n\u001b[0;32m    246\u001b[0m     \u001b[38;5;28;01mraise\u001b[39;00m exception_class(message, screen, stacktrace, alert_text)  \u001b[38;5;66;03m# type: ignore[call-arg]  # mypy is not smart enough here\u001b[39;00m\n\u001b[1;32m--> 247\u001b[0m \u001b[38;5;28;01mraise\u001b[39;00m exception_class(message, screen, stacktrace)\n",
      "\u001b[1;31mElementNotInteractableException\u001b[0m: Message: element not interactable\n  (Session info: chrome=103.0.5060.114)\nStacktrace:\nBacktrace:\n\tOrdinal0 [0x00256463+2188387]\n\tOrdinal0 [0x001EE461+1762401]\n\tOrdinal0 [0x00103C40+801856]\n\tOrdinal0 [0x0012CF63+970595]\n\tOrdinal0 [0x0012C63E+968254]\n\tOrdinal0 [0x0014C7DC+1099740]\n\tOrdinal0 [0x00127FF4+950260]\n\tOrdinal0 [0x0014C9F4+1100276]\n\tOrdinal0 [0x0015CC22+1166370]\n\tOrdinal0 [0x0014C5F6+1099254]\n\tOrdinal0 [0x00126BE0+945120]\n\tOrdinal0 [0x00127AD6+948950]\n\tGetHandleVerifier [0x004F71F2+2712546]\n\tGetHandleVerifier [0x004E886D+2652765]\n\tGetHandleVerifier [0x002E002A+520730]\n\tGetHandleVerifier [0x002DEE06+516086]\n\tOrdinal0 [0x001F468B+1787531]\n\tOrdinal0 [0x001F8E88+1805960]\n\tOrdinal0 [0x001F8F75+1806197]\n\tOrdinal0 [0x00201DF1+1842673]\n\tBaseThreadInitThunk [0x76E1FA29+25]\n\tRtlGetAppContainerNamedObjectPath [0x77207A9E+286]\n\tRtlGetAppContainerNamedObjectPath [0x77207A6E+238]\n\t(No symbol) [0x00000000]\n"
     ]
    }
   ],
   "source": [
    "search_items.send_keys(\"laptop\")"
   ]
  },
  {
   "cell_type": "code",
   "execution_count": 270,
   "id": "33006147",
   "metadata": {},
   "outputs": [],
   "source": [
    "#### Webpage has some error. Its not getting typed in the search box. Pls support"
   ]
  },
  {
   "cell_type": "code",
   "execution_count": null,
   "id": "bd765f07",
   "metadata": {},
   "outputs": [],
   "source": []
  },
  {
   "cell_type": "code",
   "execution_count": null,
   "id": "f75e8c2d",
   "metadata": {},
   "outputs": [],
   "source": [
    "### 10th Question"
   ]
  },
  {
   "cell_type": "code",
   "execution_count": 6,
   "id": "0b798f92",
   "metadata": {},
   "outputs": [],
   "source": [
    "import selenium\n",
    "from selenium .webdriver.common.by import By\n",
    "import pandas as pd\n",
    "import warnings\n",
    "warnings.filterwarnings(\"ignore\")"
   ]
  },
  {
   "cell_type": "code",
   "execution_count": 7,
   "id": "d628e8e9",
   "metadata": {},
   "outputs": [],
   "source": [
    "driver = webdriver.Chrome('chromedriver.exe')"
   ]
  },
  {
   "cell_type": "code",
   "execution_count": 8,
   "id": "17907666",
   "metadata": {},
   "outputs": [],
   "source": [
    "url = 'https://www.ambitionbox.com/'\n",
    "driver.get(url)"
   ]
  },
  {
   "cell_type": "code",
   "execution_count": 9,
   "id": "e364990f",
   "metadata": {},
   "outputs": [
    {
     "data": {
      "text/plain": [
       "<selenium.webdriver.remote.webelement.WebElement (session=\"619eea878f0f8eb2e6e7c8615a16df49\", element=\"511b8afa-1e7e-4926-a5da-4b01a7f0ee00\")>"
      ]
     },
     "execution_count": 9,
     "metadata": {},
     "output_type": "execute_result"
    }
   ],
   "source": [
    "search_between = driver.find_element(By.XPATH,\"/html/body/div[1]/nav/nav/a[4]\")\n",
    "search_between"
   ]
  },
  {
   "cell_type": "code",
   "execution_count": 10,
   "id": "00e43e48",
   "metadata": {},
   "outputs": [],
   "source": [
    "search_between.click()"
   ]
  },
  {
   "cell_type": "code",
   "execution_count": 11,
   "id": "2b45c356",
   "metadata": {},
   "outputs": [
    {
     "data": {
      "text/plain": [
       "<selenium.webdriver.remote.webelement.WebElement (session=\"619eea878f0f8eb2e6e7c8615a16df49\", element=\"3a66edde-88e4-4001-8beb-1170f8edf3e8\")>"
      ]
     },
     "execution_count": 11,
     "metadata": {},
     "output_type": "execute_result"
    }
   ],
   "source": [
    "search_jobs=driver.find_element(By.CLASS_NAME,\"twitter-typeahead\")\n",
    "search_jobs"
   ]
  },
  {
   "cell_type": "code",
   "execution_count": 12,
   "id": "563e1d27",
   "metadata": {},
   "outputs": [
    {
     "ename": "ElementNotInteractableException",
     "evalue": "Message: element not interactable\n  (Session info: chrome=103.0.5060.114)\nStacktrace:\nBacktrace:\n\tOrdinal0 [0x00256463+2188387]\n\tOrdinal0 [0x001EE461+1762401]\n\tOrdinal0 [0x00103C40+801856]\n\tOrdinal0 [0x0012CF63+970595]\n\tOrdinal0 [0x0012C63E+968254]\n\tOrdinal0 [0x0014C7DC+1099740]\n\tOrdinal0 [0x00127FF4+950260]\n\tOrdinal0 [0x0014C9F4+1100276]\n\tOrdinal0 [0x0015CC22+1166370]\n\tOrdinal0 [0x0014C5F6+1099254]\n\tOrdinal0 [0x00126BE0+945120]\n\tOrdinal0 [0x00127AD6+948950]\n\tGetHandleVerifier [0x004F71F2+2712546]\n\tGetHandleVerifier [0x004E886D+2652765]\n\tGetHandleVerifier [0x002E002A+520730]\n\tGetHandleVerifier [0x002DEE06+516086]\n\tOrdinal0 [0x001F468B+1787531]\n\tOrdinal0 [0x001F8E88+1805960]\n\tOrdinal0 [0x001F8F75+1806197]\n\tOrdinal0 [0x00201DF1+1842673]\n\tBaseThreadInitThunk [0x76E1FA29+25]\n\tRtlGetAppContainerNamedObjectPath [0x77207A9E+286]\n\tRtlGetAppContainerNamedObjectPath [0x77207A6E+238]\n\t(No symbol) [0x00000000]\n",
     "output_type": "error",
     "traceback": [
      "\u001b[1;31m---------------------------------------------------------------------------\u001b[0m",
      "\u001b[1;31mElementNotInteractableException\u001b[0m           Traceback (most recent call last)",
      "Input \u001b[1;32mIn [12]\u001b[0m, in \u001b[0;36m<cell line: 1>\u001b[1;34m()\u001b[0m\n\u001b[1;32m----> 1\u001b[0m \u001b[43msearch_jobs\u001b[49m\u001b[38;5;241;43m.\u001b[39;49m\u001b[43msend_keys\u001b[49m\u001b[43m(\u001b[49m\u001b[38;5;124;43m\"\u001b[39;49m\u001b[38;5;124;43mData Scientist\u001b[39;49m\u001b[38;5;124;43m\"\u001b[39;49m\u001b[43m)\u001b[49m\n",
      "File \u001b[1;32m~\\anaconda3\\lib\\site-packages\\selenium\\webdriver\\remote\\webelement.py:223\u001b[0m, in \u001b[0;36mWebElement.send_keys\u001b[1;34m(self, *value)\u001b[0m\n\u001b[0;32m    220\u001b[0m             remote_files\u001b[38;5;241m.\u001b[39mappend(\u001b[38;5;28mself\u001b[39m\u001b[38;5;241m.\u001b[39m_upload(file))\n\u001b[0;32m    221\u001b[0m         value \u001b[38;5;241m=\u001b[39m \u001b[38;5;124m'\u001b[39m\u001b[38;5;130;01m\\n\u001b[39;00m\u001b[38;5;124m'\u001b[39m\u001b[38;5;241m.\u001b[39mjoin(remote_files)\n\u001b[1;32m--> 223\u001b[0m \u001b[38;5;28;43mself\u001b[39;49m\u001b[38;5;241;43m.\u001b[39;49m\u001b[43m_execute\u001b[49m\u001b[43m(\u001b[49m\u001b[43mCommand\u001b[49m\u001b[38;5;241;43m.\u001b[39;49m\u001b[43mSEND_KEYS_TO_ELEMENT\u001b[49m\u001b[43m,\u001b[49m\n\u001b[0;32m    224\u001b[0m \u001b[43m              \u001b[49m\u001b[43m{\u001b[49m\u001b[38;5;124;43m'\u001b[39;49m\u001b[38;5;124;43mtext\u001b[39;49m\u001b[38;5;124;43m'\u001b[39;49m\u001b[43m:\u001b[49m\u001b[43m \u001b[49m\u001b[38;5;124;43m\"\u001b[39;49m\u001b[38;5;124;43m\"\u001b[39;49m\u001b[38;5;241;43m.\u001b[39;49m\u001b[43mjoin\u001b[49m\u001b[43m(\u001b[49m\u001b[43mkeys_to_typing\u001b[49m\u001b[43m(\u001b[49m\u001b[43mvalue\u001b[49m\u001b[43m)\u001b[49m\u001b[43m)\u001b[49m\u001b[43m,\u001b[49m\n\u001b[0;32m    225\u001b[0m \u001b[43m               \u001b[49m\u001b[38;5;124;43m'\u001b[39;49m\u001b[38;5;124;43mvalue\u001b[39;49m\u001b[38;5;124;43m'\u001b[39;49m\u001b[43m:\u001b[49m\u001b[43m \u001b[49m\u001b[43mkeys_to_typing\u001b[49m\u001b[43m(\u001b[49m\u001b[43mvalue\u001b[49m\u001b[43m)\u001b[49m\u001b[43m}\u001b[49m\u001b[43m)\u001b[49m\n",
      "File \u001b[1;32m~\\anaconda3\\lib\\site-packages\\selenium\\webdriver\\remote\\webelement.py:396\u001b[0m, in \u001b[0;36mWebElement._execute\u001b[1;34m(self, command, params)\u001b[0m\n\u001b[0;32m    394\u001b[0m     params \u001b[38;5;241m=\u001b[39m {}\n\u001b[0;32m    395\u001b[0m params[\u001b[38;5;124m'\u001b[39m\u001b[38;5;124mid\u001b[39m\u001b[38;5;124m'\u001b[39m] \u001b[38;5;241m=\u001b[39m \u001b[38;5;28mself\u001b[39m\u001b[38;5;241m.\u001b[39m_id\n\u001b[1;32m--> 396\u001b[0m \u001b[38;5;28;01mreturn\u001b[39;00m \u001b[38;5;28;43mself\u001b[39;49m\u001b[38;5;241;43m.\u001b[39;49m\u001b[43m_parent\u001b[49m\u001b[38;5;241;43m.\u001b[39;49m\u001b[43mexecute\u001b[49m\u001b[43m(\u001b[49m\u001b[43mcommand\u001b[49m\u001b[43m,\u001b[49m\u001b[43m \u001b[49m\u001b[43mparams\u001b[49m\u001b[43m)\u001b[49m\n",
      "File \u001b[1;32m~\\anaconda3\\lib\\site-packages\\selenium\\webdriver\\remote\\webdriver.py:435\u001b[0m, in \u001b[0;36mWebDriver.execute\u001b[1;34m(self, driver_command, params)\u001b[0m\n\u001b[0;32m    433\u001b[0m response \u001b[38;5;241m=\u001b[39m \u001b[38;5;28mself\u001b[39m\u001b[38;5;241m.\u001b[39mcommand_executor\u001b[38;5;241m.\u001b[39mexecute(driver_command, params)\n\u001b[0;32m    434\u001b[0m \u001b[38;5;28;01mif\u001b[39;00m response:\n\u001b[1;32m--> 435\u001b[0m     \u001b[38;5;28;43mself\u001b[39;49m\u001b[38;5;241;43m.\u001b[39;49m\u001b[43merror_handler\u001b[49m\u001b[38;5;241;43m.\u001b[39;49m\u001b[43mcheck_response\u001b[49m\u001b[43m(\u001b[49m\u001b[43mresponse\u001b[49m\u001b[43m)\u001b[49m\n\u001b[0;32m    436\u001b[0m     response[\u001b[38;5;124m'\u001b[39m\u001b[38;5;124mvalue\u001b[39m\u001b[38;5;124m'\u001b[39m] \u001b[38;5;241m=\u001b[39m \u001b[38;5;28mself\u001b[39m\u001b[38;5;241m.\u001b[39m_unwrap_value(\n\u001b[0;32m    437\u001b[0m         response\u001b[38;5;241m.\u001b[39mget(\u001b[38;5;124m'\u001b[39m\u001b[38;5;124mvalue\u001b[39m\u001b[38;5;124m'\u001b[39m, \u001b[38;5;28;01mNone\u001b[39;00m))\n\u001b[0;32m    438\u001b[0m     \u001b[38;5;28;01mreturn\u001b[39;00m response\n",
      "File \u001b[1;32m~\\anaconda3\\lib\\site-packages\\selenium\\webdriver\\remote\\errorhandler.py:247\u001b[0m, in \u001b[0;36mErrorHandler.check_response\u001b[1;34m(self, response)\u001b[0m\n\u001b[0;32m    245\u001b[0m         alert_text \u001b[38;5;241m=\u001b[39m value[\u001b[38;5;124m'\u001b[39m\u001b[38;5;124malert\u001b[39m\u001b[38;5;124m'\u001b[39m]\u001b[38;5;241m.\u001b[39mget(\u001b[38;5;124m'\u001b[39m\u001b[38;5;124mtext\u001b[39m\u001b[38;5;124m'\u001b[39m)\n\u001b[0;32m    246\u001b[0m     \u001b[38;5;28;01mraise\u001b[39;00m exception_class(message, screen, stacktrace, alert_text)  \u001b[38;5;66;03m# type: ignore[call-arg]  # mypy is not smart enough here\u001b[39;00m\n\u001b[1;32m--> 247\u001b[0m \u001b[38;5;28;01mraise\u001b[39;00m exception_class(message, screen, stacktrace)\n",
      "\u001b[1;31mElementNotInteractableException\u001b[0m: Message: element not interactable\n  (Session info: chrome=103.0.5060.114)\nStacktrace:\nBacktrace:\n\tOrdinal0 [0x00256463+2188387]\n\tOrdinal0 [0x001EE461+1762401]\n\tOrdinal0 [0x00103C40+801856]\n\tOrdinal0 [0x0012CF63+970595]\n\tOrdinal0 [0x0012C63E+968254]\n\tOrdinal0 [0x0014C7DC+1099740]\n\tOrdinal0 [0x00127FF4+950260]\n\tOrdinal0 [0x0014C9F4+1100276]\n\tOrdinal0 [0x0015CC22+1166370]\n\tOrdinal0 [0x0014C5F6+1099254]\n\tOrdinal0 [0x00126BE0+945120]\n\tOrdinal0 [0x00127AD6+948950]\n\tGetHandleVerifier [0x004F71F2+2712546]\n\tGetHandleVerifier [0x004E886D+2652765]\n\tGetHandleVerifier [0x002E002A+520730]\n\tGetHandleVerifier [0x002DEE06+516086]\n\tOrdinal0 [0x001F468B+1787531]\n\tOrdinal0 [0x001F8E88+1805960]\n\tOrdinal0 [0x001F8F75+1806197]\n\tOrdinal0 [0x00201DF1+1842673]\n\tBaseThreadInitThunk [0x76E1FA29+25]\n\tRtlGetAppContainerNamedObjectPath [0x77207A9E+286]\n\tRtlGetAppContainerNamedObjectPath [0x77207A6E+238]\n\t(No symbol) [0x00000000]\n"
     ]
    }
   ],
   "source": [
    "search_jobs.send_keys(\"Data Scientist\")"
   ]
  },
  {
   "cell_type": "code",
   "execution_count": null,
   "id": "8c92c0c6",
   "metadata": {},
   "outputs": [],
   "source": []
  },
  {
   "cell_type": "code",
   "execution_count": null,
   "id": "15969aff",
   "metadata": {},
   "outputs": [],
   "source": []
  },
  {
   "cell_type": "code",
   "execution_count": null,
   "id": "01ee73df",
   "metadata": {},
   "outputs": [],
   "source": []
  }
 ],
 "metadata": {
  "kernelspec": {
   "display_name": "Python 3 (ipykernel)",
   "language": "python",
   "name": "python3"
  },
  "language_info": {
   "codemirror_mode": {
    "name": "ipython",
    "version": 3
   },
   "file_extension": ".py",
   "mimetype": "text/x-python",
   "name": "python",
   "nbconvert_exporter": "python",
   "pygments_lexer": "ipython3",
   "version": "3.9.12"
  }
 },
 "nbformat": 4,
 "nbformat_minor": 5
}
