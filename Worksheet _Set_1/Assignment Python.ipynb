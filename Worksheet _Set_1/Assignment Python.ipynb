{
 "cells": [
  {
   "cell_type": "code",
   "execution_count": 1,
   "id": "084da165",
   "metadata": {},
   "outputs": [],
   "source": [
    "# Q11: Write a python program to find the factorial of a number"
   ]
  },
  {
   "cell_type": "code",
   "execution_count": 5,
   "id": "891a7720",
   "metadata": {},
   "outputs": [
    {
     "name": "stdout",
     "output_type": "stream",
     "text": [
      "Enter the Number: 4\n"
     ]
    }
   ],
   "source": [
    "number = int(input(\"Enter the Number: \"))"
   ]
  },
  {
   "cell_type": "code",
   "execution_count": 6,
   "id": "cc571dd8",
   "metadata": {},
   "outputs": [],
   "source": [
    "num = 4"
   ]
  },
  {
   "cell_type": "code",
   "execution_count": 7,
   "id": "02fb4912",
   "metadata": {},
   "outputs": [
    {
     "name": "stdout",
     "output_type": "stream",
     "text": [
      "the factorial of a number is 96\n"
     ]
    }
   ],
   "source": [
    "if num < 0:\n",
    "    print(\"Sorry the factorial number is negative and does not exits\")\n",
    "elif num==3:\n",
    "    print (\"the factorial of 0 is 1\")\n",
    "else:\n",
    "    for i in range(1,num+1):\n",
    "        num = num*i\n",
    "    print (\"the factorial of a number is\", num)"
   ]
  },
  {
   "cell_type": "code",
   "execution_count": null,
   "id": "fbd8fd30",
   "metadata": {},
   "outputs": [],
   "source": []
  },
  {
   "cell_type": "code",
   "execution_count": 4,
   "id": "27864f96",
   "metadata": {},
   "outputs": [],
   "source": [
    "# Write a python program to find whether a number is prime or composite"
   ]
  },
  {
   "cell_type": "code",
   "execution_count": 8,
   "id": "d773dff0",
   "metadata": {},
   "outputs": [
    {
     "name": "stdout",
     "output_type": "stream",
     "text": [
      "Enter the Number: 1\n"
     ]
    }
   ],
   "source": [
    "n = int(input(\"Enter the Number: \"))"
   ]
  },
  {
   "cell_type": "code",
   "execution_count": 9,
   "id": "c09ddae6",
   "metadata": {},
   "outputs": [
    {
     "name": "stdout",
     "output_type": "stream",
     "text": [
      "1 number is not a prime nor composite number\n"
     ]
    }
   ],
   "source": [
    "if (n==0 or n==1):\n",
    "    print(n,\"number is not a prime nor composite number\")\n",
    "elif n>1:\n",
    "    for i in range(2,n):\n",
    "        if (n%i == 0):\n",
    "            print(n,\"is not prime but composite number\")\n",
    "        else:\n",
    "            print(n,\"is a prime but not composite number\")\n",
    "            break\n",
    "else:\n",
    "    print(\"Please enter positive number only\")"
   ]
  },
  {
   "cell_type": "code",
   "execution_count": null,
   "id": "e50a288c",
   "metadata": {},
   "outputs": [],
   "source": []
  },
  {
   "cell_type": "code",
   "execution_count": 10,
   "id": "83aa9124",
   "metadata": {},
   "outputs": [],
   "source": [
    "# Write a python program to check whether a given string is palindrome or not"
   ]
  },
  {
   "cell_type": "code",
   "execution_count": 1,
   "id": "7e9a0925",
   "metadata": {},
   "outputs": [
    {
     "name": "stdout",
     "output_type": "stream",
     "text": [
      "Please enter a text:python\n"
     ]
    }
   ],
   "source": [
    "string = input(\"Please enter a text:\")"
   ]
  },
  {
   "cell_type": "code",
   "execution_count": 2,
   "id": "24951ab2",
   "metadata": {},
   "outputs": [],
   "source": [
    "text = 0"
   ]
  },
  {
   "cell_type": "code",
   "execution_count": 3,
   "id": "83b337e9",
   "metadata": {},
   "outputs": [
    {
     "name": "stdout",
     "output_type": "stream",
     "text": [
      "The given string is not a Palindrome\n"
     ]
    }
   ],
   "source": [
    "length = len(string)\n",
    "for i in range(length):\n",
    "    if(string[i]!=string[length-i-1]):\n",
    "        text=1\n",
    "        break\n",
    "        \n",
    "if(text==0):\n",
    "    print(\"The given string is Palindrome\")\n",
    "else:\n",
    "    print(\"The given string is not a Palindrome\")"
   ]
  },
  {
   "cell_type": "code",
   "execution_count": null,
   "id": "9d9294ab",
   "metadata": {},
   "outputs": [],
   "source": []
  },
  {
   "cell_type": "code",
   "execution_count": 4,
   "id": "f4b2b6c0",
   "metadata": {},
   "outputs": [],
   "source": [
    "# Write a Python program to get the third side of right-angled triangle from two given sides"
   ]
  },
  {
   "cell_type": "code",
   "execution_count": 5,
   "id": "d0c7312e",
   "metadata": {},
   "outputs": [],
   "source": [
    "import math"
   ]
  },
  {
   "cell_type": "code",
   "execution_count": 7,
   "id": "3d590d6e",
   "metadata": {},
   "outputs": [
    {
     "name": "stdout",
     "output_type": "stream",
     "text": [
      "Enter base:8\n"
     ]
    }
   ],
   "source": [
    "ab = float(input(\"Enter base:\"))"
   ]
  },
  {
   "cell_type": "code",
   "execution_count": 8,
   "id": "8e56cae5",
   "metadata": {},
   "outputs": [
    {
     "name": "stdout",
     "output_type": "stream",
     "text": [
      "Enter height:16\n"
     ]
    }
   ],
   "source": [
    "bc = float(input(\"Enter height:\"))"
   ]
  },
  {
   "cell_type": "code",
   "execution_count": 9,
   "id": "910fd42a",
   "metadata": {},
   "outputs": [
    {
     "name": "stdout",
     "output_type": "stream",
     "text": [
      "Enter angle:20\n"
     ]
    }
   ],
   "source": [
    "x = float(input(\"Enter angle:\"))"
   ]
  },
  {
   "cell_type": "code",
   "execution_count": 10,
   "id": "593c3047",
   "metadata": {},
   "outputs": [
    {
     "name": "stdout",
     "output_type": "stream",
     "text": [
      "Hypotenuse =  17.88854381999832\n"
     ]
    }
   ],
   "source": [
    "ac = math.sqrt(ab ** 2 + bc ** 2)\n",
    "\n",
    "print(\"Hypotenuse = \", ac)"
   ]
  },
  {
   "cell_type": "code",
   "execution_count": null,
   "id": "77f422c3",
   "metadata": {},
   "outputs": [],
   "source": []
  },
  {
   "cell_type": "code",
   "execution_count": null,
   "id": "30ff5ff6",
   "metadata": {},
   "outputs": [],
   "source": [
    "# Write a python program to print the frequency of each of the characters present in a given string"
   ]
  },
  {
   "cell_type": "code",
   "execution_count": 17,
   "id": "5deaa849",
   "metadata": {},
   "outputs": [
    {
     "name": "stdout",
     "output_type": "stream",
     "text": [
      "Enter the string:monday,tuesday,wednesday,thursday,friday,saturday,sunday\n"
     ]
    }
   ],
   "source": [
    "Strl = input(\"Enter the string:\")"
   ]
  },
  {
   "cell_type": "code",
   "execution_count": 18,
   "id": "8e0af633",
   "metadata": {},
   "outputs": [],
   "source": [
    "d = dict()"
   ]
  },
  {
   "cell_type": "code",
   "execution_count": 19,
   "id": "b3cb058b",
   "metadata": {},
   "outputs": [
    {
     "name": "stdout",
     "output_type": "stream",
     "text": [
      "{'m': 1, 'o': 1, 'n': 3, 'd': 8, 'a': 8, 'y': 7, ',': 6, 't': 3, 'u': 4, 'e': 3, 's': 5, 'w': 1, 'h': 1, 'r': 3, 'f': 1, 'i': 1}\n"
     ]
    }
   ],
   "source": [
    "for c in Strl:\n",
    "    d [c] = d.get(c,0) + 1\n",
    "    \n",
    "print(d)"
   ]
  },
  {
   "cell_type": "code",
   "execution_count": null,
   "id": "f01afd2b",
   "metadata": {},
   "outputs": [],
   "source": []
  },
  {
   "cell_type": "code",
   "execution_count": null,
   "id": "bc8e17f8",
   "metadata": {},
   "outputs": [],
   "source": []
  },
  {
   "cell_type": "code",
   "execution_count": null,
   "id": "d0457b34",
   "metadata": {},
   "outputs": [],
   "source": []
  },
  {
   "cell_type": "code",
   "execution_count": null,
   "id": "54d73eea",
   "metadata": {},
   "outputs": [],
   "source": []
  }
 ],
 "metadata": {
  "kernelspec": {
   "display_name": "Python 3 (ipykernel)",
   "language": "python",
   "name": "python3"
  },
  "language_info": {
   "codemirror_mode": {
    "name": "ipython",
    "version": 3
   },
   "file_extension": ".py",
   "mimetype": "text/x-python",
   "name": "python",
   "nbconvert_exporter": "python",
   "pygments_lexer": "ipython3",
   "version": "3.9.7"
  }
 },
 "nbformat": 4,
 "nbformat_minor": 5
}
